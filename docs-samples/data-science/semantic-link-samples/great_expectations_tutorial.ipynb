{
  "cells": [
    {
      "cell_type": "markdown",
      "id": "2c8b374e-9883-4f6f-9df8-d068ee21d8e5",
      "metadata": {},
      "source": [
        "# Tutorial: Use Great Expectations to validate  Power BI datasets\n",
        "This tutorial illustrates how to use Semantic Link together with [Great Expectations](https://greatexpectations.io/) to perform data validation."
      ]
    },
    {
      "cell_type": "markdown",
      "id": "33c46a9a-09e8-4109-b9fc-ce6a9083db3f",
      "metadata": {
        "nteract": {
          "transient": {
            "deleting": false
          }
        }
      },
      "source": [
        "### In this tutorial, you learn how to:\n",
        "- Evaluate Power BI measures programmatically via a Python interface of Semantic Link's Python library ([SemPy](https://learn.microsoft.com/en-us/python/api/semantic-link-sempy)), apply filtering, grouping, and so on.\n",
        "- Get familiarized with components of SemPy that help bridge the gap between AI and BI. These components include:\n",
        "    - FabricDataFrame - a pandas-like structure enhanced with additional semantic information.\n",
        "    - Useful functions that allow you to fetch Power BI datasets, including raw data, configurations, and measures."
      ]
    },
    {
      "cell_type": "markdown",
      "id": "060a6d9f-49c6-4840-b843-152379377515",
      "metadata": {
        "nteract": {
          "transient": {
            "deleting": false
          }
        }
      },
      "source": [
        "### Prerequisites\n",
        "\n",
        "* A [Microsoft Fabric subscription](https://learn.microsoft.com/fabric/enterprise/licenses). Or sign up for a free [Microsoft Fabric (Preview) trial](https://learn.microsoft.com/fabric/get-started/fabric-trial).\n",
        "* Sign in to [Microsoft Fabric](https://fabric.microsoft.com/).\n",
        "* Go to the Data Science experience in Microsoft Fabric.\n",
        "* Select **Workspaces** from the left navigation pane to find and select your workspace. This workspace becomes your current workspace.\n",
        "* Download the [_Retail Analysis Sample PBIX.pbix_](https://download.microsoft.com/download/9/6/D/96DDC2FF-2568-491D-AAFA-AFDD6F763AE3/Retail%20Analysis%20Sample%20PBIX.pbix) dataset and upload it to your workspace.\n",
        "* Open your notebook. You have two options:\n",
        "    * [Import this notebook into your workspace](https://learn.microsoft.com/en-us/fabric/data-engineering/how-to-use-notebook#import-existing-notebooks). You can import from the Data Science homepage.\n",
        "    * Alternatively, you can create [a new notebook](https://learn.microsoft.com/fabric/data-engineering/how-to-use-notebook#create-notebooks) to copy/paste code into cells."
      ]
    },
    {
      "cell_type": "markdown",
      "id": "f003ff81-c3e0-4f14-9336-6bd21629a860",
      "metadata": {
        "nteract": {
          "transient": {
            "deleting": false
          }
        }
      },
      "source": [
        "## Set up the notebook\n",
        "\n",
        "In this section, you set up a notebook environment with the necessary modules and data.\n",
        "\n",
        "1. Install `SemPy` from PyPI using the `%pip` in-line installation capability within the notebook."
      ]
    },
    {
      "cell_type": "code",
      "execution_count": 1,
      "id": "450c8f7b-6896-4349-8101-014057015aa8",
      "metadata": {
        "jupyter": {
          "outputs_hidden": true,
          "source_hidden": false
        },
        "nteract": {
          "transient": {
            "deleting": false
          }
        },
        "tags": [
          "fabric_skip_execution"
        ]
      },
      "outputs": [
        {
          "data": {
            "application/vnd.livy.statement-meta+json": {
              "execution_finish_time": "2023-10-06T15:55:05.7366091Z",
              "execution_start_time": "2023-10-06T15:54:54.5912694Z",
              "livy_statement_state": "available",
              "parent_msg_id": "08fd856e-a076-485a-b3c1-31ae9afac96c",
              "queued_time": "2023-10-06T15:50:38.4731581Z",
              "session_id": "efb436d1-09b2-43ab-a318-5b84c484989f",
              "session_start_time": null,
              "spark_jobs": {
                "jobs": [],
                "limit": 20,
                "numbers": {
                  "FAILED": 0,
                  "RUNNING": 0,
                  "SUCCEEDED": 0,
                  "UNKNOWN": 0
                },
                "rule": "ALL_DESC"
              },
              "spark_pool": null,
              "state": "finished",
              "statement_id": 10
            },
            "text/plain": [
              "StatementMeta(, efb436d1-09b2-43ab-a318-5b84c484989f, 10, Finished, Available)"
            ]
          },
          "metadata": {},
          "output_type": "display_data"
        },
        {
          "data": {},
          "execution_count": 1,
          "metadata": {},
          "output_type": "execute_result"
        },
        {
          "name": "stdout",
          "output_type": "stream",
          "text": [
            "Collecting semantic-link\n",
            "  Downloading semantic_link-0.3.4-py3-none-any.whl (8.2 kB)\n",
            "Collecting great-expectations\n",
            "  Downloading great_expectations-0.17.21-py3-none-any.whl (5.4 MB)\n",
            "\u001b[2K     \u001b[90m━━━━━━━━━━━━━━━━━━━━━━━━━━━━━━━━━━━━━━━━\u001b[0m \u001b[32m5.4/5.4 MB\u001b[0m \u001b[31m83.7 MB/s\u001b[0m eta \u001b[36m0:00:00\u001b[0mta \u001b[36m0:00:01\u001b[0m\n",
            "\u001b[?25hCollecting great_expectations_experimental\n",
            "  Downloading great_expectations_experimental-0.1.20231006018-py3-none-any.whl (174 kB)\n",
            "\u001b[2K     \u001b[90m━━━━━━━━━━━━━━━━━━━━━━━━━━━━━━━━━━━━━━\u001b[0m \u001b[32m174.4/174.4 kB\u001b[0m \u001b[31m62.7 MB/s\u001b[0m eta \u001b[36m0:00:00\u001b[0m\n",
            "\u001b[?25hCollecting great_expectations_zipcode_expectations\n",
            "  Downloading great_expectations_zipcode_expectations-0.1.0-py3-none-any.whl (125 kB)\n",
            "\u001b[2K     \u001b[90m━━━━━━━━━━━━━━━━━━━━━━━━━━━━━━━━━━━━━━\u001b[0m \u001b[32m125.2/125.2 kB\u001b[0m \u001b[31m17.8 MB/s\u001b[0m eta \u001b[36m0:00:00\u001b[0m\n",
            "\u001b[?25hCollecting semantic-link-functions-holidays==0.3.4\n",
            "  Downloading semantic_link_functions_holidays-0.3.4-py3-none-any.whl (4.2 kB)\n",
            "Collecting semantic-link-sempy==0.3.4\n",
            "  Downloading semantic_link_sempy-0.3.4-py3-none-any.whl (2.9 MB)\n",
            "\u001b[2K     \u001b[90m━━━━━━━━━━━━━━━━━━━━━━━━━━━━━━━━━━━━━━━━\u001b[0m \u001b[32m2.9/2.9 MB\u001b[0m \u001b[31m123.5 MB/s\u001b[0m eta \u001b[36m0:00:00\u001b[0m\n",
            "\u001b[?25hCollecting semantic-link-functions-phonenumbers==0.3.4\n",
            "  Downloading semantic_link_functions_phonenumbers-0.3.4-py3-none-any.whl (4.3 kB)\n",
            "Collecting semantic-link-functions-meteostat==0.3.4\n",
            "  Downloading semantic_link_functions_meteostat-0.3.4-py3-none-any.whl (4.5 kB)\n",
            "Collecting semantic-link-functions-validators==0.3.4\n",
            "  Downloading semantic_link_functions_validators-0.3.4-py3-none-any.whl (4.8 kB)\n",
            "Collecting semantic-link-functions-geopandas==0.3.4\n",
            "  Downloading semantic_link_functions_geopandas-0.3.4-py3-none-any.whl (4.0 kB)\n",
            "Collecting mapclassify\n",
            "  Downloading mapclassify-2.6.1-py3-none-any.whl (38 kB)\n",
            "Collecting folium\n",
            "  Downloading folium-0.14.0-py2.py3-none-any.whl (102 kB)\n",
            "\u001b[2K     \u001b[90m━━━━━━━━━━━━━━━━━━━━━━━━━━━━━━━━━━━━━━\u001b[0m \u001b[32m102.3/102.3 kB\u001b[0m \u001b[31m43.0 MB/s\u001b[0m eta \u001b[36m0:00:00\u001b[0m\n",
            "\u001b[?25hCollecting geopandas\n",
            "  Downloading geopandas-0.14.0-py3-none-any.whl (1.1 MB)\n",
            "\u001b[2K     \u001b[90m━━━━━━━━━━━━━━━━━━━━━━━━━━━━━━━━━━━━━━━━\u001b[0m \u001b[32m1.1/1.1 MB\u001b[0m \u001b[31m128.6 MB/s\u001b[0m eta \u001b[36m0:00:00\u001b[0m\n",
            "\u001b[?25hCollecting holidays\n",
            "  Downloading holidays-0.34-py3-none-any.whl (778 kB)\n",
            "\u001b[2K     \u001b[90m━━━━━━━━━━━━━━━━━━━━━━━━━━━━━━━━━━━━━\u001b[0m \u001b[32m778.9/778.9 kB\u001b[0m \u001b[31m145.2 MB/s\u001b[0m eta \u001b[36m0:00:00\u001b[0m\n",
            "\u001b[?25hCollecting meteostat\n",
            "  Downloading meteostat-1.6.7-py3-none-any.whl (31 kB)\n",
            "Collecting phonenumbers\n",
            "  Downloading phonenumbers-8.13.22-py2.py3-none-any.whl (2.6 MB)\n",
            "\u001b[2K     \u001b[90m━━━━━━━━━━━━━━━━━━━━━━━━━━━━━━━━━━━━━━━━\u001b[0m \u001b[32m2.6/2.6 MB\u001b[0m \u001b[31m124.7 MB/s\u001b[0m eta \u001b[36m0:00:00\u001b[0m\n",
            "\u001b[?25hCollecting validators\n",
            "  Downloading validators-0.22.0-py3-none-any.whl (26 kB)\n",
            "Collecting pythonnet==3.0.1\n",
            "  Downloading pythonnet-3.0.1-py3-none-any.whl (284 kB)\n",
            "\u001b[2K     \u001b[90m━━━━━━━━━━━━━━━━━━━━━━━━━━━━━━━━━━━━━━\u001b[0m \u001b[32m284.5/284.5 kB\u001b[0m \u001b[31m86.8 MB/s\u001b[0m eta \u001b[36m0:00:00\u001b[0m\n",
            "\u001b[?25hCollecting clr-loader<0.3.0,>=0.2.2\n",
            "  Downloading clr_loader-0.2.6-py3-none-any.whl (51 kB)\n",
            "\u001b[2K     \u001b[90m━━━━━━━━━━━━━━━━━━━━━━━━━━━━━━━━━━━━━━━━\u001b[0m \u001b[32m51.3/51.3 kB\u001b[0m \u001b[31m24.1 MB/s\u001b[0m eta \u001b[36m0:00:00\u001b[0m\n",
            "\u001b[?25hCollecting altair<5.0.0,>=4.2.1\n",
            "  Downloading altair-4.2.2-py3-none-any.whl (813 kB)\n",
            "\u001b[2K     \u001b[90m━━━━━━━━━━━━━━━━━━━━━━━━━━━━━━━━━━━━━\u001b[0m \u001b[32m813.6/813.6 kB\u001b[0m \u001b[31m137.7 MB/s\u001b[0m eta \u001b[36m0:00:00\u001b[0m\n",
            "\u001b[?25hCollecting jsonpatch>=1.22\n",
            "  Downloading jsonpatch-1.33-py2.py3-none-any.whl (12 kB)\n",
            "Requirement already satisfied: cryptography>=3.2 in /home/trusted-service-user/cluster-env/trident_env/lib/python3.10/site-packages (from great-expectations) (40.0.1)\n",
            "Requirement already satisfied: python-dateutil>=2.8.1 in /home/trusted-service-user/cluster-env/trident_env/lib/python3.10/site-packages (from great-expectations) (2.8.2)\n",
            "Requirement already satisfied: ipywidgets>=7.5.1 in /home/trusted-service-user/cluster-env/trident_env/lib/python3.10/site-packages (from great-expectations) (8.0.4)\n",
            "Collecting ruamel.yaml<0.17.18,>=0.16\n",
            "  Downloading ruamel.yaml-0.17.17-py3-none-any.whl (109 kB)\n",
            "\u001b[2K     \u001b[90m━━━━━━━━━━━━━━━━━━━━━━━━━━━━━━━━━━━━━━\u001b[0m \u001b[32m109.1/109.1 kB\u001b[0m \u001b[31m34.7 MB/s\u001b[0m eta \u001b[36m0:00:00\u001b[0m\n",
            "\u001b[?25hCollecting makefun<2,>=1.7.0\n",
            "  Downloading makefun-1.15.1-py2.py3-none-any.whl (22 kB)\n",
            "Requirement already satisfied: tqdm>=4.59.0 in /home/trusted-service-user/cluster-env/trident_env/lib/python3.10/site-packages (from great-expectations) (4.65.0)\n",
            "Requirement already satisfied: typing-extensions>=3.10.0.0 in /home/trusted-service-user/cluster-env/trident_env/lib/python3.10/site-packages (from great-expectations) (4.5.0)\n",
            "Requirement already satisfied: packaging in /home/trusted-service-user/cluster-env/trident_env/lib/python3.10/site-packages (from great-expectations) (22.0)\n",
            "Requirement already satisfied: pytz>=2021.3 in /home/trusted-service-user/cluster-env/trident_env/lib/python3.10/site-packages (from great-expectations) (2022.7.1)\n",
            "Requirement already satisfied: pyparsing>=2.4 in /home/trusted-service-user/cluster-env/trident_env/lib/python3.10/site-packages (from great-expectations) (3.0.9)\n",
            "Requirement already satisfied: scipy>=1.6.0 in /home/trusted-service-user/cluster-env/trident_env/lib/python3.10/site-packages (from great-expectations) (1.10.1)\n",
            "Requirement already satisfied: pandas>=1.3.0 in /home/trusted-service-user/cluster-env/trident_env/lib/python3.10/site-packages (from great-expectations) (1.5.3)\n",
            "Collecting marshmallow<4.0.0,>=3.7.1\n",
            "  Downloading marshmallow-3.20.1-py3-none-any.whl (49 kB)\n",
            "\u001b[2K     \u001b[90m━━━━━━━━━━━━━━━━━━━━━━━━━━━━━━━━━━━━━━━━\u001b[0m \u001b[32m49.4/49.4 kB\u001b[0m \u001b[31m23.2 MB/s\u001b[0m eta \u001b[36m0:00:00\u001b[0m\n",
            "\u001b[?25hCollecting notebook>=6.4.10\n",
            "  Downloading notebook-7.0.4-py3-none-any.whl (4.0 MB)\n",
            "\u001b[2K     \u001b[90m━━━━━━━━━━━━━━━━━━━━━━━━━━━━━━━━━━━━━━━━\u001b[0m \u001b[32m4.0/4.0 MB\u001b[0m \u001b[31m114.6 MB/s\u001b[0m eta \u001b[36m0:00:00\u001b[0m00:01\u001b[0m\n",
            "\u001b[?25hRequirement already satisfied: Click!=8.1.4,>=7.1.2 in /home/trusted-service-user/cluster-env/trident_env/lib/python3.10/site-packages (from great-expectations) (8.1.3)\n",
            "Requirement already satisfied: mistune>=0.8.4 in /home/trusted-service-user/cluster-env/trident_env/lib/python3.10/site-packages (from great-expectations) (2.0.5)\n",
            "Requirement already satisfied: nbformat>=5.0 in /home/trusted-service-user/cluster-env/trident_env/lib/python3.10/site-packages (from great-expectations) (5.8.0)\n",
            "Collecting pydantic>=1.9.2\n",
            "  Downloading pydantic-2.4.2-py3-none-any.whl (395 kB)\n",
            "\u001b[2K     \u001b[90m━━━━━━━━━━━━━━━━━━━━━━━━━━━━━━━━━━━━━\u001b[0m \u001b[32m395.8/395.8 kB\u001b[0m \u001b[31m102.2 MB/s\u001b[0m eta \u001b[36m0:00:00\u001b[0m\n",
            "\u001b[?25hRequirement already satisfied: colorama>=0.4.3 in /home/trusted-service-user/cluster-env/trident_env/lib/python3.10/site-packages (from great-expectations) (0.4.6)\n",
            "Requirement already satisfied: urllib3>=1.26 in /home/trusted-service-user/cluster-env/trident_env/lib/python3.10/site-packages (from great-expectations) (1.26.14)\n",
            "Requirement already satisfied: Ipython>=7.16.3 in /home/trusted-service-user/cluster-env/trident_env/lib/python3.10/site-packages (from great-expectations) (8.9.0)\n",
            "Requirement already satisfied: jsonschema>=2.5.1 in /home/trusted-service-user/cluster-env/trident_env/lib/python3.10/site-packages (from great-expectations) (4.17.3)\n",
            "Requirement already satisfied: numpy>=1.22.4 in /home/trusted-service-user/cluster-env/trident_env/lib/python3.10/site-packages (from great-expectations) (1.23.5)\n",
            "Requirement already satisfied: requests>=2.20 in /home/trusted-service-user/cluster-env/trident_env/lib/python3.10/site-packages (from great-expectations) (2.28.2)\n",
            "Collecting tzlocal>=1.2\n",
            "  Downloading tzlocal-5.1-py3-none-any.whl (21 kB)\n",
            "Requirement already satisfied: jinja2>=2.10 in /home/trusted-service-user/cluster-env/trident_env/lib/python3.10/site-packages (from great-expectations) (3.1.2)\n",
            "Collecting uszipcode\n",
            "  Downloading uszipcode-1.0.1-py2.py3-none-any.whl (35 kB)\n",
            "Collecting pgeocode\n",
            "  Downloading pgeocode-0.4.1-py3-none-any.whl (9.8 kB)\n",
            "Requirement already satisfied: setuptools in /home/trusted-service-user/cluster-env/trident_env/lib/python3.10/site-packages (from great_expectations_zipcode_expectations) (67.6.1)\n",
            "Collecting zipcodes\n",
            "  Downloading zipcodes-1.2.0-py2.py3-none-any.whl (719 kB)\n",
            "\u001b[2K     \u001b[90m━━━━━━━━━━━━━━━━━━━━━━━━━━━━━━━━━━━━━\u001b[0m \u001b[32m719.6/719.6 kB\u001b[0m \u001b[31m129.5 MB/s\u001b[0m eta \u001b[36m0:00:00\u001b[0m\n",
            "\u001b[?25hRequirement already satisfied: entrypoints in /home/trusted-service-user/cluster-env/trident_env/lib/python3.10/site-packages (from altair<5.0.0,>=4.2.1->great-expectations) (0.4)\n",
            "Requirement already satisfied: toolz in /home/trusted-service-user/cluster-env/trident_env/lib/python3.10/site-packages (from altair<5.0.0,>=4.2.1->great-expectations) (0.12.0)\n",
            "Requirement already satisfied: cffi>=1.12 in /home/trusted-service-user/cluster-env/trident_env/lib/python3.10/site-packages (from cryptography>=3.2->great-expectations) (1.15.1)\n",
            "Requirement already satisfied: pickleshare in /home/trusted-service-user/cluster-env/trident_env/lib/python3.10/site-packages (from Ipython>=7.16.3->great-expectations) (0.7.5)\n",
            "Requirement already satisfied: decorator in /home/trusted-service-user/cluster-env/trident_env/lib/python3.10/site-packages (from Ipython>=7.16.3->great-expectations) (5.1.1)\n",
            "Requirement already satisfied: jedi>=0.16 in /home/trusted-service-user/cluster-env/trident_env/lib/python3.10/site-packages (from Ipython>=7.16.3->great-expectations) (0.18.2)\n",
            "Requirement already satisfied: traitlets>=5 in /home/trusted-service-user/cluster-env/trident_env/lib/python3.10/site-packages (from Ipython>=7.16.3->great-expectations) (5.9.0)\n",
            "Requirement already satisfied: pexpect>4.3 in /home/trusted-service-user/cluster-env/trident_env/lib/python3.10/site-packages (from Ipython>=7.16.3->great-expectations) (4.8.0)\n",
            "Requirement already satisfied: matplotlib-inline in /home/trusted-service-user/cluster-env/trident_env/lib/python3.10/site-packages (from Ipython>=7.16.3->great-expectations) (0.1.6)\n",
            "Requirement already satisfied: pygments>=2.4.0 in /home/trusted-service-user/cluster-env/trident_env/lib/python3.10/site-packages (from Ipython>=7.16.3->great-expectations) (2.14.0)\n",
            "Requirement already satisfied: stack-data in /home/trusted-service-user/cluster-env/trident_env/lib/python3.10/site-packages (from Ipython>=7.16.3->great-expectations) (0.6.2)\n",
            "Requirement already satisfied: backcall in /home/trusted-service-user/cluster-env/trident_env/lib/python3.10/site-packages (from Ipython>=7.16.3->great-expectations) (0.2.0)\n",
            "Requirement already satisfied: prompt-toolkit<3.1.0,>=3.0.30 in /home/trusted-service-user/cluster-env/trident_env/lib/python3.10/site-packages (from Ipython>=7.16.3->great-expectations) (3.0.38)\n",
            "Requirement already satisfied: ipykernel>=4.5.1 in /home/trusted-service-user/cluster-env/trident_env/lib/python3.10/site-packages (from ipywidgets>=7.5.1->great-expectations) (6.22.0)\n",
            "Requirement already satisfied: jupyterlab-widgets~=3.0 in /home/trusted-service-user/cluster-env/trident_env/lib/python3.10/site-packages (from ipywidgets>=7.5.1->great-expectations) (3.0.7)\n",
            "Requirement already satisfied: widgetsnbextension~=4.0 in /home/trusted-service-user/cluster-env/trident_env/lib/python3.10/site-packages (from ipywidgets>=7.5.1->great-expectations) (4.0.7)\n",
            "Requirement already satisfied: MarkupSafe>=2.0 in /home/trusted-service-user/cluster-env/trident_env/lib/python3.10/site-packages (from jinja2>=2.10->great-expectations) (2.1.2)\n",
            "Collecting jsonpointer>=1.9\n",
            "  Downloading jsonpointer-2.4-py2.py3-none-any.whl (7.8 kB)\n",
            "Requirement already satisfied: attrs>=17.4.0 in /home/trusted-service-user/cluster-env/trident_env/lib/python3.10/site-packages (from jsonschema>=2.5.1->great-expectations) (22.2.0)\n",
            "Requirement already satisfied: pyrsistent!=0.17.0,!=0.17.1,!=0.17.2,>=0.14.0 in /home/trusted-service-user/cluster-env/trident_env/lib/python3.10/site-packages (from jsonschema>=2.5.1->great-expectations) (0.19.3)\n",
            "Requirement already satisfied: fastjsonschema in /home/trusted-service-user/cluster-env/trident_env/lib/python3.10/site-packages (from nbformat>=5.0->great-expectations) (2.16.3)\n",
            "Requirement already satisfied: jupyter-core in /home/trusted-service-user/cluster-env/trident_env/lib/python3.10/site-packages (from nbformat>=5.0->great-expectations) (5.3.0)\n",
            "Collecting notebook-shim<0.3,>=0.2\n",
            "  Downloading notebook_shim-0.2.3-py3-none-any.whl (13 kB)\n",
            "Collecting jupyter-server<3,>=2.4.0\n",
            "  Downloading jupyter_server-2.7.3-py3-none-any.whl (375 kB)\n",
            "\u001b[2K     \u001b[90m━━━━━━━━━━━━━━━━━━━━━━━━━━━━━━━━━━━━━\u001b[0m \u001b[32m375.6/375.6 kB\u001b[0m \u001b[31m109.5 MB/s\u001b[0m eta \u001b[36m0:00:00\u001b[0m\n",
            "\u001b[?25hCollecting jupyterlab<5,>=4.0.2\n",
            "  Downloading jupyterlab-4.0.6-py3-none-any.whl (9.2 MB)\n",
            "\u001b[2K     \u001b[90m━━━━━━━━━━━━━━━━━━━━━━━━━━━━━━━━━━━━━━━━\u001b[0m \u001b[32m9.2/9.2 MB\u001b[0m \u001b[31m179.1 MB/s\u001b[0m eta \u001b[36m0:00:00\u001b[0m00:01\u001b[0m\n",
            "\u001b[?25hCollecting jupyterlab-server<3,>=2.22.1\n",
            "  Downloading jupyterlab_server-2.25.0-py3-none-any.whl (57 kB)\n",
            "\u001b[2K     \u001b[90m━━━━━━━━━━━━━━━━━━━━━━━━━━━━━━━━━━━━━━━━\u001b[0m \u001b[32m57.2/57.2 kB\u001b[0m \u001b[31m23.7 MB/s\u001b[0m eta \u001b[36m0:00:00\u001b[0m\n",
            "\u001b[?25hRequirement already satisfied: tornado>=6.2.0 in /home/trusted-service-user/cluster-env/trident_env/lib/python3.10/site-packages (from notebook>=6.4.10->great-expectations) (6.2)\n",
            "Collecting typing-extensions>=3.10.0.0\n",
            "  Using cached typing_extensions-4.8.0-py3-none-any.whl (31 kB)\n",
            "Collecting pydantic-core==2.10.1\n",
            "  Downloading pydantic_core-2.10.1-cp310-cp310-manylinux_2_17_x86_64.manylinux2014_x86_64.whl (2.0 MB)\n",
            "\u001b[2K     \u001b[90m━━━━━━━━━━━━━━━━━━━━━━━━━━━━━━━━━━━━━━━━\u001b[0m \u001b[32m2.0/2.0 MB\u001b[0m \u001b[31m173.6 MB/s\u001b[0m eta \u001b[36m0:00:00\u001b[0m\n",
            "\u001b[?25hCollecting annotated-types>=0.4.0\n",
            "  Downloading annotated_types-0.5.0-py3-none-any.whl (11 kB)\n",
            "Requirement already satisfied: six>=1.5 in /home/trusted-service-user/cluster-env/trident_env/lib/python3.10/site-packages (from python-dateutil>=2.8.1->great-expectations) (1.16.0)\n",
            "Requirement already satisfied: idna<4,>=2.5 in /home/trusted-service-user/cluster-env/trident_env/lib/python3.10/site-packages (from requests>=2.20->great-expectations) (3.4)\n",
            "Requirement already satisfied: certifi>=2017.4.17 in /home/trusted-service-user/cluster-env/trident_env/lib/python3.10/site-packages (from requests>=2.20->great-expectations) (2022.12.7)\n",
            "Requirement already satisfied: charset-normalizer<4,>=2 in /home/trusted-service-user/cluster-env/trident_env/lib/python3.10/site-packages (from requests>=2.20->great-expectations) (2.1.1)\n",
            "Collecting haversine>=2.5.0\n",
            "  Downloading haversine-2.8.0-py2.py3-none-any.whl (7.7 kB)\n",
            "Collecting fuzzywuzzy\n",
            "  Downloading fuzzywuzzy-0.18.0-py2.py3-none-any.whl (18 kB)\n",
            "Collecting atomicwrites\n",
            "  Downloading atomicwrites-1.4.1.tar.gz (14 kB)\n",
            "  Preparing metadata (setup.py) ... \u001b[?25l-\b \bdone\n",
            "\u001b[?25hCollecting sqlalchemy-mate>=1.4.28.3\n",
            "  Downloading sqlalchemy_mate-1.4.28.4-py2.py3-none-any.whl (77 kB)\n",
            "\u001b[2K     \u001b[90m━━━━━━━━━━━━━━━━━━━━━━━━━━━━━━━━━━━━━━━━\u001b[0m \u001b[32m77.1/77.1 kB\u001b[0m \u001b[31m36.3 MB/s\u001b[0m eta \u001b[36m0:00:00\u001b[0m\n",
            "\u001b[?25hRequirement already satisfied: SQLAlchemy>=1.4.0 in /home/trusted-service-user/cluster-env/trident_env/lib/python3.10/site-packages (from uszipcode->great_expectations_zipcode_expectations) (2.0.9)\n",
            "Collecting pathlib-mate\n",
            "  Downloading pathlib_mate-1.2.1-py2.py3-none-any.whl (121 kB)\n",
            "\u001b[2K     \u001b[90m━━━━━━━━━━━━━━━━━━━━━━━━━━━━━━━━━━━━━━\u001b[0m \u001b[32m121.5/121.5 kB\u001b[0m \u001b[31m48.7 MB/s\u001b[0m eta \u001b[36m0:00:00\u001b[0m\n",
            "\u001b[?25hRequirement already satisfied: pycparser in /home/trusted-service-user/cluster-env/trident_env/lib/python3.10/site-packages (from cffi>=1.12->cryptography>=3.2->great-expectations) (2.21)\n",
            "Requirement already satisfied: nest-asyncio in /home/trusted-service-user/cluster-env/trident_env/lib/python3.10/site-packages (from ipykernel>=4.5.1->ipywidgets>=7.5.1->great-expectations) (1.5.6)\n",
            "Requirement already satisfied: jupyter-client>=6.1.12 in /home/trusted-service-user/cluster-env/trident_env/lib/python3.10/site-packages (from ipykernel>=4.5.1->ipywidgets>=7.5.1->great-expectations) (8.1.0)\n",
            "Requirement already satisfied: comm>=0.1.1 in /home/trusted-service-user/cluster-env/trident_env/lib/python3.10/site-packages (from ipykernel>=4.5.1->ipywidgets>=7.5.1->great-expectations) (0.1.3)\n",
            "Requirement already satisfied: debugpy>=1.6.5 in /home/trusted-service-user/cluster-env/trident_env/lib/python3.10/site-packages (from ipykernel>=4.5.1->ipywidgets>=7.5.1->great-expectations) (1.6.7)\n",
            "Requirement already satisfied: pyzmq>=20 in /home/trusted-service-user/cluster-env/trident_env/lib/python3.10/site-packages (from ipykernel>=4.5.1->ipywidgets>=7.5.1->great-expectations) (25.0.2)\n",
            "Requirement already satisfied: psutil in /home/trusted-service-user/cluster-env/trident_env/lib/python3.10/site-packages (from ipykernel>=4.5.1->ipywidgets>=7.5.1->great-expectations) (5.9.4)\n",
            "Requirement already satisfied: parso<0.9.0,>=0.8.0 in /home/trusted-service-user/cluster-env/trident_env/lib/python3.10/site-packages (from jedi>=0.16->Ipython>=7.16.3->great-expectations) (0.8.3)\n",
            "Requirement already satisfied: platformdirs>=2.5 in /home/trusted-service-user/cluster-env/trident_env/lib/python3.10/site-packages (from jupyter-core->nbformat>=5.0->great-expectations) (3.2.0)\n",
            "Requirement already satisfied: terminado>=0.8.3 in /home/trusted-service-user/cluster-env/trident_env/lib/python3.10/site-packages (from jupyter-server<3,>=2.4.0->notebook>=6.4.10->great-expectations) (0.17.1)\n",
            "Requirement already satisfied: prometheus-client in /home/trusted-service-user/cluster-env/trident_env/lib/python3.10/site-packages (from jupyter-server<3,>=2.4.0->notebook>=6.4.10->great-expectations) (0.16.0)\n",
            "Requirement already satisfied: anyio>=3.1.0 in /home/trusted-service-user/cluster-env/trident_env/lib/python3.10/site-packages (from jupyter-server<3,>=2.4.0->notebook>=6.4.10->great-expectations) (3.6.2)\n",
            "Requirement already satisfied: nbconvert>=6.4.4 in /home/trusted-service-user/cluster-env/trident_env/lib/python3.10/site-packages (from jupyter-server<3,>=2.4.0->notebook>=6.4.10->great-expectations) (7.3.0)\n",
            "Collecting send2trash>=1.8.2\n",
            "  Downloading Send2Trash-1.8.2-py3-none-any.whl (18 kB)\n",
            "Requirement already satisfied: websocket-client in /home/trusted-service-user/cluster-env/trident_env/lib/python3.10/site-packages (from jupyter-server<3,>=2.4.0->notebook>=6.4.10->great-expectations) (1.5.1)\n",
            "Collecting overrides\n",
            "  Downloading overrides-7.4.0-py3-none-any.whl (17 kB)\n",
            "Requirement already satisfied: argon2-cffi in /home/trusted-service-user/cluster-env/trident_env/lib/python3.10/site-packages (from jupyter-server<3,>=2.4.0->notebook>=6.4.10->great-expectations) (21.3.0)\n",
            "Requirement already satisfied: jupyter-events>=0.6.0 in /home/trusted-service-user/cluster-env/trident_env/lib/python3.10/site-packages (from jupyter-server<3,>=2.4.0->notebook>=6.4.10->great-expectations) (0.6.3)\n",
            "Requirement already satisfied: jupyter-server-terminals in /home/trusted-service-user/cluster-env/trident_env/lib/python3.10/site-packages (from jupyter-server<3,>=2.4.0->notebook>=6.4.10->great-expectations) (0.4.4)\n",
            "Collecting async-lru>=1.0.0\n",
            "  Downloading async_lru-2.0.4-py3-none-any.whl (6.1 kB)\n",
            "Collecting jupyter-lsp>=2.0.0\n",
            "  Downloading jupyter_lsp-2.2.0-py3-none-any.whl (65 kB)\n",
            "\u001b[2K     \u001b[90m━━━━━━━━━━━━━━━━━━━━━━━━━━━━━━━━━━━━━━━━\u001b[0m \u001b[32m66.0/66.0 kB\u001b[0m \u001b[31m33.7 MB/s\u001b[0m eta \u001b[36m0:00:00\u001b[0m\n",
            "\u001b[?25hCollecting tomli\n",
            "  Downloading tomli-2.0.1-py3-none-any.whl (12 kB)\n",
            "Collecting babel>=2.10\n",
            "  Downloading Babel-2.13.0-py3-none-any.whl (10.1 MB)\n",
            "\u001b[2K     \u001b[90m━━━━━━━━━━━━━━━━━━━━━━━━━━━━━━━━━━━━━━━\u001b[0m \u001b[32m10.1/10.1 MB\u001b[0m \u001b[31m155.5 MB/s\u001b[0m eta \u001b[36m0:00:00\u001b[0ma \u001b[36m0:00:01\u001b[0m\n",
            "\u001b[?25hCollecting requests>=2.20\n",
            "  Downloading requests-2.31.0-py3-none-any.whl (62 kB)\n",
            "\u001b[2K     \u001b[90m━━━━━━━━━━━━━━━━━━━━━━━━━━━━━━━━━━━━━━━━\u001b[0m \u001b[32m62.6/62.6 kB\u001b[0m \u001b[31m28.7 MB/s\u001b[0m eta \u001b[36m0:00:00\u001b[0m\n",
            "\u001b[?25hCollecting jsonschema>=2.5.1\n",
            "  Downloading jsonschema-4.19.1-py3-none-any.whl (83 kB)\n",
            "\u001b[2K     \u001b[90m━━━━━━━━━━━━━━━━━━━━━━━━━━━━━━━━━━━━━━━━\u001b[0m \u001b[32m83.3/83.3 kB\u001b[0m \u001b[31m35.6 MB/s\u001b[0m eta \u001b[36m0:00:00\u001b[0m\n",
            "\u001b[?25hCollecting json5>=0.9.0\n",
            "  Downloading json5-0.9.14-py2.py3-none-any.whl (19 kB)\n",
            "Collecting referencing>=0.28.4\n",
            "  Downloading referencing-0.30.2-py3-none-any.whl (25 kB)\n",
            "Collecting jsonschema-specifications>=2023.03.6\n",
            "  Downloading jsonschema_specifications-2023.7.1-py3-none-any.whl (17 kB)\n",
            "Collecting rpds-py>=0.7.1\n",
            "  Downloading rpds_py-0.10.4-cp310-cp310-manylinux_2_17_x86_64.manylinux2014_x86_64.whl (1.2 MB)\n",
            "\u001b[2K     \u001b[90m━━━━━━━━━━━━━━━━━━━━━━━━━━━━━━━━━━━━━━━━\u001b[0m \u001b[32m1.2/1.2 MB\u001b[0m \u001b[31m141.7 MB/s\u001b[0m eta \u001b[36m0:00:00\u001b[0m\n",
            "\u001b[?25hRequirement already satisfied: ptyprocess>=0.5 in /home/trusted-service-user/cluster-env/trident_env/lib/python3.10/site-packages (from pexpect>4.3->Ipython>=7.16.3->great-expectations) (0.7.0)\n",
            "Requirement already satisfied: wcwidth in /home/trusted-service-user/cluster-env/trident_env/lib/python3.10/site-packages (from prompt-toolkit<3.1.0,>=3.0.30->Ipython>=7.16.3->great-expectations) (0.2.6)\n",
            "Requirement already satisfied: greenlet!=0.4.17 in /home/trusted-service-user/cluster-env/trident_env/lib/python3.10/site-packages (from SQLAlchemy>=1.4.0->uszipcode->great_expectations_zipcode_expectations) (2.0.2)\n",
            "Collecting SQLAlchemy>=1.4.0\n",
            "  Downloading SQLAlchemy-1.4.49-cp310-cp310-manylinux_2_5_x86_64.manylinux1_x86_64.manylinux_2_17_x86_64.manylinux2014_x86_64.whl (1.6 MB)\n",
            "\u001b[2K     \u001b[90m━━━━━━━━━━━━━━━━━━━━━━━━━━━━━━━━━━━━━━━━\u001b[0m \u001b[32m1.6/1.6 MB\u001b[0m \u001b[31m144.8 MB/s\u001b[0m eta \u001b[36m0:00:00\u001b[0m\n",
            "\u001b[?25hRequirement already satisfied: prettytable in /home/trusted-service-user/cluster-env/trident_env/lib/python3.10/site-packages (from sqlalchemy-mate>=1.4.28.3->uszipcode->great_expectations_zipcode_expectations) (3.6.0)\n",
            "Collecting branca>=0.6.0\n",
            "  Downloading branca-0.6.0-py3-none-any.whl (24 kB)\n",
            "Collecting pyproj>=3.3.0\n",
            "  Downloading pyproj-3.6.1-cp310-cp310-manylinux_2_17_x86_64.manylinux2014_x86_64.whl (8.3 MB)\n",
            "\u001b[2K     \u001b[90m━━━━━━━━━━━━━━━━━━━━━━━━━━━━━━━━━━━━━━━━\u001b[0m \u001b[32m8.3/8.3 MB\u001b[0m \u001b[31m145.9 MB/s\u001b[0m eta \u001b[36m0:00:00\u001b[0ma \u001b[36m0:00:01\u001b[0m\n",
            "\u001b[?25hCollecting shapely>=1.8.0\n",
            "  Downloading shapely-2.0.1-cp310-cp310-manylinux_2_17_x86_64.manylinux2014_x86_64.whl (2.3 MB)\n",
            "\u001b[2K     \u001b[90m━━━━━━━━━━━━━━━━━━━━━━━━━━━━━━━━━━━━━━━━\u001b[0m \u001b[32m2.3/2.3 MB\u001b[0m \u001b[31m165.1 MB/s\u001b[0m eta \u001b[36m0:00:00\u001b[0m\n",
            "\u001b[?25hCollecting fiona>=1.8.21\n",
            "  Downloading Fiona-1.9.4.post1-cp310-cp310-manylinux_2_17_x86_64.manylinux2014_x86_64.whl (16.4 MB)\n",
            "\u001b[2K     \u001b[90m━━━━━━━━━━━━━━━━━━━━━━━━━━━━━━━━━━━━━━━\u001b[0m \u001b[32m16.4/16.4 MB\u001b[0m \u001b[31m124.8 MB/s\u001b[0m eta \u001b[36m0:00:00\u001b[0m00:01\u001b[0m00:01\u001b[0m\n",
            "\u001b[?25hRequirement already satisfied: scikit-learn>=1.0 in /home/trusted-service-user/cluster-env/trident_env/lib/python3.10/site-packages (from mapclassify->semantic-link-functions-geopandas==0.3.4->semantic-link) (1.2.0)\n",
            "Collecting networkx>=2.7\n",
            "  Downloading networkx-3.1-py3-none-any.whl (2.1 MB)\n",
            "\u001b[2K     \u001b[90m━━━━━━━━━━━━━━━━━━━━━━━━━━━━━━━━━━━━━━━━\u001b[0m \u001b[32m2.1/2.1 MB\u001b[0m \u001b[31m157.1 MB/s\u001b[0m eta \u001b[36m0:00:00\u001b[0m\n",
            "\u001b[?25hRequirement already satisfied: asttokens>=2.1.0 in /home/trusted-service-user/cluster-env/trident_env/lib/python3.10/site-packages (from stack-data->Ipython>=7.16.3->great-expectations) (2.2.1)\n",
            "Requirement already satisfied: executing>=1.2.0 in /home/trusted-service-user/cluster-env/trident_env/lib/python3.10/site-packages (from stack-data->Ipython>=7.16.3->great-expectations) (1.2.0)\n",
            "Requirement already satisfied: pure-eval in /home/trusted-service-user/cluster-env/trident_env/lib/python3.10/site-packages (from stack-data->Ipython>=7.16.3->great-expectations) (0.2.2)\n",
            "Requirement already satisfied: sniffio>=1.1 in /home/trusted-service-user/cluster-env/trident_env/lib/python3.10/site-packages (from anyio>=3.1.0->jupyter-server<3,>=2.4.0->notebook>=6.4.10->great-expectations) (1.3.0)\n",
            "Collecting cligj>=0.5\n",
            "  Downloading cligj-0.7.2-py3-none-any.whl (7.1 kB)\n",
            "Collecting click-plugins>=1.0\n",
            "  Downloading click_plugins-1.1.1-py2.py3-none-any.whl (7.5 kB)\n",
            "Requirement already satisfied: rfc3986-validator>=0.1.1 in /home/trusted-service-user/cluster-env/trident_env/lib/python3.10/site-packages (from jupyter-events>=0.6.0->jupyter-server<3,>=2.4.0->notebook>=6.4.10->great-expectations) (0.1.1)\n",
            "Requirement already satisfied: rfc3339-validator in /home/trusted-service-user/cluster-env/trident_env/lib/python3.10/site-packages (from jupyter-events>=0.6.0->jupyter-server<3,>=2.4.0->notebook>=6.4.10->great-expectations) (0.1.4)\n",
            "Requirement already satisfied: pyyaml>=5.3 in /home/trusted-service-user/cluster-env/trident_env/lib/python3.10/site-packages (from jupyter-events>=0.6.0->jupyter-server<3,>=2.4.0->notebook>=6.4.10->great-expectations) (6.0)\n",
            "Requirement already satisfied: python-json-logger>=2.0.4 in /home/trusted-service-user/cluster-env/trident_env/lib/python3.10/site-packages (from jupyter-events>=0.6.0->jupyter-server<3,>=2.4.0->notebook>=6.4.10->great-expectations) (2.0.7)\n",
            "Requirement already satisfied: beautifulsoup4 in /home/trusted-service-user/cluster-env/trident_env/lib/python3.10/site-packages (from nbconvert>=6.4.4->jupyter-server<3,>=2.4.0->notebook>=6.4.10->great-expectations) (4.11.2)\n",
            "Requirement already satisfied: defusedxml in /home/trusted-service-user/cluster-env/trident_env/lib/python3.10/site-packages (from nbconvert>=6.4.4->jupyter-server<3,>=2.4.0->notebook>=6.4.10->great-expectations) (0.7.1)\n",
            "Requirement already satisfied: nbclient>=0.5.0 in /home/trusted-service-user/cluster-env/trident_env/lib/python3.10/site-packages (from nbconvert>=6.4.4->jupyter-server<3,>=2.4.0->notebook>=6.4.10->great-expectations) (0.7.3)\n",
            "Requirement already satisfied: tinycss2 in /home/trusted-service-user/cluster-env/trident_env/lib/python3.10/site-packages (from nbconvert>=6.4.4->jupyter-server<3,>=2.4.0->notebook>=6.4.10->great-expectations) (1.2.1)\n",
            "Requirement already satisfied: jupyterlab-pygments in /home/trusted-service-user/cluster-env/trident_env/lib/python3.10/site-packages (from nbconvert>=6.4.4->jupyter-server<3,>=2.4.0->notebook>=6.4.10->great-expectations) (0.2.2)\n",
            "Requirement already satisfied: bleach in /home/trusted-service-user/cluster-env/trident_env/lib/python3.10/site-packages (from nbconvert>=6.4.4->jupyter-server<3,>=2.4.0->notebook>=6.4.10->great-expectations) (6.0.0)\n",
            "Requirement already satisfied: pandocfilters>=1.4.1 in /home/trusted-service-user/cluster-env/trident_env/lib/python3.10/site-packages (from nbconvert>=6.4.4->jupyter-server<3,>=2.4.0->notebook>=6.4.10->great-expectations) (1.5.0)\n",
            "Requirement already satisfied: threadpoolctl>=2.0.0 in /home/trusted-service-user/cluster-env/trident_env/lib/python3.10/site-packages (from scikit-learn>=1.0->mapclassify->semantic-link-functions-geopandas==0.3.4->semantic-link) (3.1.0)\n",
            "Requirement already satisfied: joblib>=1.1.1 in /home/trusted-service-user/cluster-env/trident_env/lib/python3.10/site-packages (from scikit-learn>=1.0->mapclassify->semantic-link-functions-geopandas==0.3.4->semantic-link) (1.2.0)\n",
            "Requirement already satisfied: argon2-cffi-bindings in /home/trusted-service-user/cluster-env/trident_env/lib/python3.10/site-packages (from argon2-cffi->jupyter-server<3,>=2.4.0->notebook>=6.4.10->great-expectations) (21.2.0)\n",
            "Collecting webcolors>=1.11\n",
            "  Downloading webcolors-1.13-py3-none-any.whl (14 kB)\n",
            "Collecting uri-template\n",
            "  Downloading uri_template-1.3.0-py3-none-any.whl (11 kB)\n",
            "Collecting fqdn\n",
            "  Downloading fqdn-1.5.1-py3-none-any.whl (9.1 kB)\n",
            "Collecting isoduration\n",
            "  Downloading isoduration-20.11.0-py3-none-any.whl (11 kB)\n",
            "Requirement already satisfied: soupsieve>1.2 in /home/trusted-service-user/cluster-env/trident_env/lib/python3.10/site-packages (from beautifulsoup4->nbconvert>=6.4.4->jupyter-server<3,>=2.4.0->notebook>=6.4.10->great-expectations) (2.3.2.post1)\n",
            "Requirement already satisfied: webencodings in /home/trusted-service-user/cluster-env/trident_env/lib/python3.10/site-packages (from bleach->nbconvert>=6.4.4->jupyter-server<3,>=2.4.0->notebook>=6.4.10->great-expectations) (0.5.1)\n",
            "Collecting arrow>=0.15.0\n",
            "  Downloading arrow-1.3.0-py3-none-any.whl (66 kB)\n",
            "\u001b[2K     \u001b[90m━━━━━━━━━━━━━━━━━━━━━━━━━━━━━━━━━━━━━━━━\u001b[0m \u001b[32m66.4/66.4 kB\u001b[0m \u001b[31m25.1 MB/s\u001b[0m eta \u001b[36m0:00:00\u001b[0m\n",
            "\u001b[?25hCollecting types-python-dateutil>=2.8.10\n",
            "  Downloading types_python_dateutil-2.8.19.14-py3-none-any.whl (9.4 kB)\n",
            "Building wheels for collected packages: atomicwrites\n",
            "  Building wheel for atomicwrites (setup.py) ... \u001b[?25l-\b \b\\\b \b|\b \bdone\n",
            "\u001b[?25h  Created wheel for atomicwrites: filename=atomicwrites-1.4.1-py2.py3-none-any.whl size=6943 sha256=5c26f2b5d47d464cad4d97eefb4421b591ba5be2f55fb48038391854683f3f47\n",
            "  Stored in directory: /home/trusted-service-user/.cache/pip/wheels/34/07/0b/33b15f68736109f72ea0bb2499521d87312b932620737447a2\n",
            "Successfully built atomicwrites\n",
            "Installing collected packages: zipcodes, types-python-dateutil, phonenumbers, makefun, json5, fuzzywuzzy, webcolors, validators, uri-template, tzlocal, typing-extensions, tomli, SQLAlchemy, shapely, send2trash, ruamel.yaml, rpds-py, requests, pyproj, overrides, networkx, marshmallow, jsonpointer, haversine, fqdn, cligj, click-plugins, babel, atomicwrites, annotated-types, sqlalchemy-mate, referencing, pydantic-core, pathlib-mate, jsonpatch, holidays, fiona, clr-loader, branca, async-lru, arrow, uszipcode, pythonnet, pydantic, pgeocode, meteostat, mapclassify, jsonschema-specifications, isoduration, geopandas, folium, semantic-link-sempy, jsonschema, semantic-link-functions-validators, semantic-link-functions-phonenumbers, semantic-link-functions-meteostat, semantic-link-functions-holidays, semantic-link-functions-geopandas, altair, semantic-link, jupyter-server, notebook-shim, jupyterlab-server, jupyter-lsp, jupyterlab, notebook, great-expectations, great_expectations_zipcode_expectations, great_expectations_experimental\n",
            "  Attempting uninstall: typing-extensions\n",
            "    Found existing installation: typing_extensions 4.5.0\n",
            "    Not uninstalling typing-extensions at /home/trusted-service-user/cluster-env/trident_env/lib/python3.10/site-packages, outside environment /nfs4/pyenv-7053fd41-3592-4d02-afa4-78ae2593d477\n",
            "    Can't uninstall 'typing_extensions'. No files were found to uninstall.\n",
            "  Attempting uninstall: SQLAlchemy\n",
            "    Found existing installation: SQLAlchemy 2.0.9\n",
            "    Not uninstalling sqlalchemy at /home/trusted-service-user/cluster-env/trident_env/lib/python3.10/site-packages, outside environment /nfs4/pyenv-7053fd41-3592-4d02-afa4-78ae2593d477\n",
            "    Can't uninstall 'SQLAlchemy'. No files were found to uninstall.\n",
            "  Attempting uninstall: send2trash\n",
            "    Found existing installation: Send2Trash 1.8.0\n",
            "    Not uninstalling send2trash at /home/trusted-service-user/cluster-env/trident_env/lib/python3.10/site-packages, outside environment /nfs4/pyenv-7053fd41-3592-4d02-afa4-78ae2593d477\n",
            "    Can't uninstall 'Send2Trash'. No files were found to uninstall.\n",
            "  Attempting uninstall: ruamel.yaml\n",
            "    Found existing installation: ruamel.yaml 0.17.21\n",
            "    Not uninstalling ruamel-yaml at /home/trusted-service-user/cluster-env/trident_env/lib/python3.10/site-packages, outside environment /nfs4/pyenv-7053fd41-3592-4d02-afa4-78ae2593d477\n",
            "    Can't uninstall 'ruamel.yaml'. No files were found to uninstall.\n",
            "  Attempting uninstall: requests\n",
            "    Found existing installation: requests 2.28.2\n",
            "    Not uninstalling requests at /home/trusted-service-user/cluster-env/trident_env/lib/python3.10/site-packages, outside environment /nfs4/pyenv-7053fd41-3592-4d02-afa4-78ae2593d477\n",
            "    Can't uninstall 'requests'. No files were found to uninstall.\n",
            "  Attempting uninstall: jsonschema\n",
            "    Found existing installation: jsonschema 4.17.3\n",
            "    Not uninstalling jsonschema at /home/trusted-service-user/cluster-env/trident_env/lib/python3.10/site-packages, outside environment /nfs4/pyenv-7053fd41-3592-4d02-afa4-78ae2593d477\n",
            "    Can't uninstall 'jsonschema'. No files were found to uninstall.\n",
            "  Attempting uninstall: jupyter-server\n",
            "    Found existing installation: jupyter_server 2.2.1\n",
            "    Not uninstalling jupyter-server at /home/trusted-service-user/cluster-env/trident_env/lib/python3.10/site-packages, outside environment /nfs4/pyenv-7053fd41-3592-4d02-afa4-78ae2593d477\n",
            "    Can't uninstall 'jupyter_server'. No files were found to uninstall.\n",
            "\u001b[31mERROR: pip's dependency resolver does not currently take into account all the packages that are installed. This behaviour is the source of the following dependency conflicts.\n",
            "azureml-core 1.49.0 requires packaging<22.0,>=20.0, but you have packaging 22.0 which is incompatible.\n",
            "azureml-core 1.49.0 requires paramiko<3.0.0,>=2.0.8, but you have paramiko 3.3.1 which is incompatible.\u001b[0m\u001b[31m\n",
            "\u001b[0mSuccessfully installed SQLAlchemy-1.4.49 altair-4.2.2 annotated-types-0.5.0 arrow-1.3.0 async-lru-2.0.4 atomicwrites-1.4.1 babel-2.13.0 branca-0.6.0 click-plugins-1.1.1 cligj-0.7.2 clr-loader-0.2.6 fiona-1.9.4.post1 folium-0.14.0 fqdn-1.5.1 fuzzywuzzy-0.18.0 geopandas-0.14.0 great-expectations-0.17.21 great_expectations_experimental-0.1.20231006018 great_expectations_zipcode_expectations-0.1.0 haversine-2.8.0 holidays-0.34 isoduration-20.11.0 json5-0.9.14 jsonpatch-1.33 jsonpointer-2.4 jsonschema-4.19.1 jsonschema-specifications-2023.7.1 jupyter-lsp-2.2.0 jupyter-server-2.7.3 jupyterlab-4.0.6 jupyterlab-server-2.25.0 makefun-1.15.1 mapclassify-2.6.1 marshmallow-3.20.1 meteostat-1.6.7 networkx-3.1 notebook-7.0.4 notebook-shim-0.2.3 overrides-7.4.0 pathlib-mate-1.2.1 pgeocode-0.4.1 phonenumbers-8.13.22 pydantic-2.4.2 pydantic-core-2.10.1 pyproj-3.6.1 pythonnet-3.0.1 referencing-0.30.2 requests-2.31.0 rpds-py-0.10.4 ruamel.yaml-0.17.17 semantic-link-0.3.4 semantic-link-functions-geopandas-0.3.4 semantic-link-functions-holidays-0.3.4 semantic-link-functions-meteostat-0.3.4 semantic-link-functions-phonenumbers-0.3.4 semantic-link-functions-validators-0.3.4 semantic-link-sempy-0.3.4 send2trash-1.8.2 shapely-2.0.1 sqlalchemy-mate-1.4.28.4 tomli-2.0.1 types-python-dateutil-2.8.19.14 typing-extensions-4.8.0 tzlocal-5.1 uri-template-1.3.0 uszipcode-1.0.1 validators-0.22.0 webcolors-1.13 zipcodes-1.2.0\n",
            "\n",
            "\u001b[1m[\u001b[0m\u001b[34;49mnotice\u001b[0m\u001b[1;39;49m]\u001b[0m\u001b[39;49m A new release of pip is available: \u001b[0m\u001b[31;49m23.0\u001b[0m\u001b[39;49m -> \u001b[0m\u001b[32;49m23.2.1\u001b[0m\n",
            "\u001b[1m[\u001b[0m\u001b[34;49mnotice\u001b[0m\u001b[1;39;49m]\u001b[0m\u001b[39;49m To update, run: \u001b[0m\u001b[32;49m/nfs4/pyenv-7053fd41-3592-4d02-afa4-78ae2593d477/bin/python -m pip install --upgrade pip\u001b[0m\n",
            "Note: you may need to restart the kernel to use updated packages.\n"
          ]
        },
        {
          "data": {},
          "execution_count": 1,
          "metadata": {},
          "output_type": "execute_result"
        },
        {
          "name": "stdout",
          "output_type": "stream",
          "text": [
            "Warning: PySpark kernel has been restarted to use updated packages.\n",
            "\n"
          ]
        }
      ],
      "source": [
        "# install libraries\n",
        "%pip install semantic-link great-expectations great_expectations_experimental great_expectations_zipcode_expectations\n",
        "\n",
        "# load %%dax cell magic\n",
        "%load_ext sempy"
      ]
    },
    {
      "cell_type": "markdown",
      "id": "b2eeffb5-e381-4c0d-93b7-06c94f6e80da",
      "metadata": {},
      "source": [
        "2. Perform necessary imports of modules that you'll need later: "
      ]
    },
    {
      "cell_type": "code",
      "execution_count": 2,
      "id": "9fb2ad54-6b22-4180-8959-43f47ed36e58",
      "metadata": {
        "jupyter": {
          "outputs_hidden": false,
          "source_hidden": false
        },
        "nteract": {
          "transient": {
            "deleting": false
          }
        }
      },
      "outputs": [
        {
          "data": {
            "application/vnd.livy.statement-meta+json": {
              "execution_finish_time": "2023-10-06T15:55:33.7157053Z",
              "execution_start_time": "2023-10-06T15:55:20.2311689Z",
              "livy_statement_state": "available",
              "parent_msg_id": "cbc66743-01a2-420d-9d73-5f4a021aa5b0",
              "queued_time": "2023-10-06T15:50:38.473789Z",
              "session_id": "efb436d1-09b2-43ab-a318-5b84c484989f",
              "session_start_time": null,
              "spark_jobs": {
                "jobs": [],
                "limit": 20,
                "numbers": {
                  "FAILED": 0,
                  "RUNNING": 0,
                  "SUCCEEDED": 0,
                  "UNKNOWN": 0
                },
                "rule": "ALL_DESC"
              },
              "spark_pool": null,
              "state": "finished",
              "statement_id": 12
            },
            "text/plain": [
              "StatementMeta(, efb436d1-09b2-43ab-a318-5b84c484989f, 12, Finished, Available)"
            ]
          },
          "metadata": {},
          "output_type": "display_data"
        },
        {
          "name": "stdout",
          "output_type": "stream",
          "text": [
            "/nfs4/pyenv-7053fd41-3592-4d02-afa4-78ae2593d477/lib/python3.10/site-packages/fuzzywuzzy/fuzz.py:11: UserWarning: Using slow pure-python SequenceMatcher. Install python-Levenshtein to remove this warning\n",
            "  warnings.warn('Using slow pure-python SequenceMatcher. Install python-Levenshtein to remove this warning')\n",
            "\n"
          ]
        }
      ],
      "source": [
        "import great_expectations as gx\n",
        "from great_expectations.expectations.expectation import ExpectationConfiguration\n",
        "from great_expectations_zipcode_expectations.expectations import expect_column_values_to_be_valid_zip5, expect_column_values_to_be_valid_alabama_zip"
      ]
    },
    {
      "cell_type": "markdown",
      "id": "56e558dd-2c75-4966-ac27-33fc7b08d129",
      "metadata": {
        "nteract": {
          "transient": {
            "deleting": false
          }
        }
      },
      "source": [
        "## Set up Great Expectation context and data source\n",
        "\n",
        "Set up Great Expectation context and create data source using Semantic Link.\n",
        "This establishes the connection to the Retail Analysis Sample PBIX dataset."
      ]
    },
    {
      "cell_type": "code",
      "execution_count": 3,
      "id": "8ce91d3c-5a6d-4337-9ae1-bbfb04aebc04",
      "metadata": {
        "jupyter": {
          "outputs_hidden": false,
          "source_hidden": false
        },
        "nteract": {
          "transient": {
            "deleting": false
          }
        }
      },
      "outputs": [
        {
          "data": {
            "application/vnd.livy.statement-meta+json": {
              "execution_finish_time": "2023-10-06T15:55:34.5799856Z",
              "execution_start_time": "2023-10-06T15:55:34.1353619Z",
              "livy_statement_state": "available",
              "parent_msg_id": "edc5a264-7c46-4bde-a270-67d289a2c142",
              "queued_time": "2023-10-06T15:50:38.4743485Z",
              "session_id": "efb436d1-09b2-43ab-a318-5b84c484989f",
              "session_start_time": null,
              "spark_jobs": {
                "jobs": [],
                "limit": 20,
                "numbers": {
                  "FAILED": 0,
                  "RUNNING": 0,
                  "SUCCEEDED": 0,
                  "UNKNOWN": 0
                },
                "rule": "ALL_DESC"
              },
              "spark_pool": null,
              "state": "finished",
              "statement_id": 13
            },
            "text/plain": [
              "StatementMeta(, efb436d1-09b2-43ab-a318-5b84c484989f, 13, Finished, Available)"
            ]
          },
          "metadata": {},
          "output_type": "display_data"
        },
        {
          "name": "stdout",
          "output_type": "stream",
          "text": [
            "Created temporary directory '/tmp/tmp176f7_50' for ephemeral docs site\n"
          ]
        }
      ],
      "source": [
        "context = gx.get_context()\n",
        "\n",
        "ds = context.sources.add_fabric_powerbi(\"Retail Analysis Data Source\", dataset=\"Retail Analysis Sample PBIX\")"
      ]
    },
    {
      "cell_type": "markdown",
      "id": "d29cc78a-ba34-472e-a5cd-e024f7f25645",
      "metadata": {
        "nteract": {
          "transient": {
            "deleting": false
          }
        }
      },
      "source": [
        "## Data assets\n",
        "\n",
        "Add data assets for tables, measures and DAX query."
      ]
    },
    {
      "cell_type": "code",
      "execution_count": 12,
      "id": "804ef10b-9098-40c8-8bcc-db71858015ad",
      "metadata": {
        "jupyter": {
          "outputs_hidden": false,
          "source_hidden": false
        },
        "nteract": {
          "transient": {
            "deleting": false
          }
        }
      },
      "outputs": [
        {
          "data": {
            "application/vnd.livy.statement-meta+json": {
              "execution_finish_time": "2023-10-06T16:06:03.817579Z",
              "execution_start_time": "2023-10-06T16:06:03.3836242Z",
              "livy_statement_state": "available",
              "parent_msg_id": "2e8a6e83-6c20-4791-9d8b-d0d92d64e47b",
              "queued_time": "2023-10-06T16:06:02.998663Z",
              "session_id": "efb436d1-09b2-43ab-a318-5b84c484989f",
              "session_start_time": null,
              "spark_jobs": {
                "jobs": [],
                "limit": 20,
                "numbers": {
                  "FAILED": 0,
                  "RUNNING": 0,
                  "SUCCEEDED": 0,
                  "UNKNOWN": 0
                },
                "rule": "ALL_DESC"
              },
              "spark_pool": null,
              "state": "finished",
              "statement_id": 23
            },
            "text/plain": [
              "StatementMeta(, efb436d1-09b2-43ab-a318-5b84c484989f, 23, Finished, Available)"
            ]
          },
          "metadata": {},
          "output_type": "display_data"
        },
        {
          "name": "stdout",
          "output_type": "stream",
          "text": [
            "Created temporary directory '/tmp/tmpl3_woi23' for ephemeral docs site\n"
          ]
        }
      ],
      "source": [
        "ds.add_powerbi_table_asset(\"Store Asset\", table=\"Store\")\n",
        "\n",
        "ds.add_powerbi_measure_asset(\n",
        "    \"Total Units Asset\",\n",
        "    measure=\"TotalUnits\",\n",
        "    groupby_columns=[\"Time[FiscalYear]\", \"Time[FiscalMonth]\"]\n",
        ")\n",
        "\n",
        "ds.add_powerbi_dax_asset(\n",
        "    \"Total Units YoY Asset\",\n",
        "    dax_string=\"\"\"\n",
        "EVALUATE SUMMARIZECOLUMNS(\n",
        "    'Time'[FiscalYear],\n",
        "    'Time'[FiscalMonth],\n",
        "    \"Total Units Ratio\", DIVIDE([Total Units This Year], [Total Units Last Year])\n",
        ")    \n",
        "\"\"\")\n",
        "\n",
        "# https://dax.tips/2019/11/28/clean-data-faster-reports/\n",
        "ds.add_powerbi_dax_asset(\n",
        "    \"Referential Integrity Violation\",\n",
        "    dax_string=\"\"\"\n",
        "SELECT\n",
        "    [Database_name],\n",
        "    [Dimension_Name],\n",
        "    [RIVIOLATION_COUNT]\n",
        "FROM $SYSTEM.DISCOVER_STORAGE_TABLES\n",
        "\"\"\")\n",
        "\n",
        "None"
      ]
    },
    {
      "cell_type": "markdown",
      "id": "a88e5f55-194d-43ff-8d25-5e0d93ac2852",
      "metadata": {
        "nteract": {
          "transient": {
            "deleting": false
          }
        }
      },
      "source": [
        "## Expectations\n",
        "\n",
        "Configure expectations to validate the data."
      ]
    },
    {
      "cell_type": "code",
      "execution_count": 13,
      "id": "c46b03cf-1618-4fd2-bd25-f4d83bd70343",
      "metadata": {
        "jupyter": {
          "outputs_hidden": false,
          "source_hidden": false
        },
        "nteract": {
          "transient": {
            "deleting": false
          }
        }
      },
      "outputs": [
        {
          "data": {
            "application/vnd.livy.statement-meta+json": {
              "execution_finish_time": "2023-10-06T16:06:15.5674588Z",
              "execution_start_time": "2023-10-06T16:06:15.1466832Z",
              "livy_statement_state": "available",
              "parent_msg_id": "8eb35b77-9395-406a-8380-89c4a7358ae8",
              "queued_time": "2023-10-06T16:06:14.8012462Z",
              "session_id": "efb436d1-09b2-43ab-a318-5b84c484989f",
              "session_start_time": null,
              "spark_jobs": {
                "jobs": [],
                "limit": 20,
                "numbers": {
                  "FAILED": 0,
                  "RUNNING": 0,
                  "SUCCEEDED": 0,
                  "UNKNOWN": 0
                },
                "rule": "ALL_DESC"
              },
              "spark_pool": null,
              "state": "finished",
              "statement_id": 24
            },
            "text/plain": [
              "StatementMeta(, efb436d1-09b2-43ab-a318-5b84c484989f, 24, Finished, Available)"
            ]
          },
          "metadata": {},
          "output_type": "display_data"
        }
      ],
      "source": [
        "# Configure expections for Store table\n",
        "suite_store = context.add_expectation_suite(\"Retail Store Suite\")\n",
        "\n",
        "# the alabama one is expected fail\n",
        "suite_store.add_expectation(ExpectationConfiguration(\"expect_column_values_to_be_valid_zip5\", { \"column\": \"PostalCode\" }))\n",
        "suite_store.add_expectation(ExpectationConfiguration(\"expect_column_values_to_be_valid_alabama_zip\", { \"column\": \"PostalCode\" }))\n",
        "suite_store.add_expectation(ExpectationConfiguration(\"expect_table_row_count_to_be_between\", { \"min_value\": 80, \"max_value\": 200 }))\n",
        "\n",
        "context.add_or_update_expectation_suite(expectation_suite=suite_store)\n",
        "\n",
        "# Configure expections for measures\n",
        "suite_measure = context.add_expectation_suite(\"Retail Measure Suite\")\n",
        "suite_measure.add_expectation(ExpectationConfiguration(\n",
        "    \"expect_column_values_to_be_between\", \n",
        "    {\n",
        "        \"column\": \"TotalUnits\",\n",
        "        \"min_value\": 50000\n",
        "    }))\n",
        "\n",
        "context.add_or_update_expectation_suite(expectation_suite=suite_measure)\n",
        "\n",
        "# Configure expectations for DAX\n",
        "suite_dax = context.add_expectation_suite(\"Retail DAX Suite\")\n",
        "suite_dax.add_expectation(ExpectationConfiguration(\n",
        "    \"expect_column_values_to_be_between\", \n",
        "    {\n",
        "        \"column\": \"[Total Units Ratio]\",\n",
        "        \"min_value\": 0.8,\n",
        "        \"max_value\": 1.5\n",
        "    }))\n",
        "\n",
        "context.add_or_update_expectation_suite(expectation_suite=suite_dax)\n",
        "\n",
        "\n",
        "# Configure expectations for DAX\n",
        "suite_dmv = context.add_expectation_suite(\"Retail DMV Suite\")\n",
        "suite_dmv.add_expectation(ExpectationConfiguration(\n",
        "    \"expect_column_values_to_be_between\", \n",
        "    {\n",
        "        \"column\": \"RIVIOLATION_COUNT\",\n",
        "        \"min_value\": 0,\n",
        "        \"max_value\": 0\n",
        "    }))\n",
        "\n",
        "context.add_or_update_expectation_suite(expectation_suite=suite_dmv)\n",
        "\n",
        "None"
      ]
    },
    {
      "cell_type": "markdown",
      "id": "f2ee7351-a2ad-47dd-99b3-b762b573493c",
      "metadata": {
        "nteract": {
          "transient": {
            "deleting": false
          }
        }
      },
      "source": [
        "## Validation\n",
        "\n",
        "Configure a checkpoint and apply the suites to each asset."
      ]
    },
    {
      "cell_type": "code",
      "execution_count": 14,
      "id": "0563e117-7075-4386-963a-fb038cf6c813",
      "metadata": {
        "jupyter": {
          "outputs_hidden": false,
          "source_hidden": false
        },
        "nteract": {
          "transient": {
            "deleting": false
          }
        }
      },
      "outputs": [
        {
          "data": {
            "application/vnd.livy.statement-meta+json": {
              "execution_finish_time": "2023-10-06T16:06:30.7639392Z",
              "execution_start_time": "2023-10-06T16:06:21.3909999Z",
              "livy_statement_state": "available",
              "parent_msg_id": "eb31d2de-907f-403e-9da6-b0a76542b336",
              "queued_time": "2023-10-06T16:06:21.0242553Z",
              "session_id": "efb436d1-09b2-43ab-a318-5b84c484989f",
              "session_start_time": null,
              "spark_jobs": {
                "jobs": [],
                "limit": 20,
                "numbers": {
                  "FAILED": 0,
                  "RUNNING": 0,
                  "SUCCEEDED": 0,
                  "UNKNOWN": 0
                },
                "rule": "ALL_DESC"
              },
              "spark_pool": null,
              "state": "finished",
              "statement_id": 25
            },
            "text/plain": [
              "StatementMeta(, efb436d1-09b2-43ab-a318-5b84c484989f, 25, Finished, Available)"
            ]
          },
          "metadata": {},
          "output_type": "display_data"
        },
        {
          "name": "stdout",
          "output_type": "stream",
          "text": [
            "/home/trusted-service-user/cluster-env/trident_env/lib/python3.10/site-packages/ipykernel/comm/comm.py:79: DeprecationWarning: The `ipykernel.comm.Comm` class has been deprecated. Please use the `comm` module instead.For creating comms, use the function `from comm import create_comm`.\n",
            "  warn(\n",
            "\n"
          ]
        },
        {
          "data": {
            "application/vnd.jupyter.widget-view+json": {
              "model_id": "d1b4f232ecad47719b8ab2837b12c691",
              "version_major": 2,
              "version_minor": 0
            },
            "text/plain": [
              "Calculating Metrics:   0%|          | 0/15 [00:00<?, ?it/s]"
            ]
          },
          "metadata": {},
          "output_type": "display_data"
        },
        {
          "name": "stdout",
          "output_type": "stream",
          "text": [
            "/home/trusted-service-user/cluster-env/trident_env/lib/python3.10/site-packages/ipykernel/comm/comm.py:79: DeprecationWarning: The `ipykernel.comm.Comm` class has been deprecated. Please use the `comm` module instead.For creating comms, use the function `from comm import create_comm`.\n",
            "  warn(\n",
            "\n"
          ]
        },
        {
          "data": {
            "application/vnd.jupyter.widget-view+json": {
              "model_id": "f7af42e8906c444e98c8f941558decf7",
              "version_major": 2,
              "version_minor": 0
            },
            "text/plain": [
              "Calculating Metrics:   0%|          | 0/10 [00:00<?, ?it/s]"
            ]
          },
          "metadata": {},
          "output_type": "display_data"
        },
        {
          "name": "stdout",
          "output_type": "stream",
          "text": [
            "/home/trusted-service-user/cluster-env/trident_env/lib/python3.10/site-packages/ipykernel/comm/comm.py:79: DeprecationWarning: The `ipykernel.comm.Comm` class has been deprecated. Please use the `comm` module instead.For creating comms, use the function `from comm import create_comm`.\n",
            "  warn(\n",
            "\n"
          ]
        },
        {
          "data": {
            "application/vnd.jupyter.widget-view+json": {
              "model_id": "8ed164bb58f948bf9a1c638dc4826516",
              "version_major": 2,
              "version_minor": 0
            },
            "text/plain": [
              "Calculating Metrics:   0%|          | 0/10 [00:00<?, ?it/s]"
            ]
          },
          "metadata": {},
          "output_type": "display_data"
        },
        {
          "name": "stdout",
          "output_type": "stream",
          "text": [
            "/home/trusted-service-user/cluster-env/trident_env/lib/python3.10/site-packages/ipykernel/comm/comm.py:79: DeprecationWarning: The `ipykernel.comm.Comm` class has been deprecated. Please use the `comm` module instead.For creating comms, use the function `from comm import create_comm`.\n",
            "  warn(\n",
            "\n"
          ]
        },
        {
          "data": {
            "application/vnd.jupyter.widget-view+json": {
              "model_id": "3373ac9153ea4a7296fc2d819b738345",
              "version_major": 2,
              "version_minor": 0
            },
            "text/plain": [
              "Calculating Metrics:   0%|          | 0/10 [00:00<?, ?it/s]"
            ]
          },
          "metadata": {},
          "output_type": "display_data"
        },
        {
          "data": {
            "application/vnd.livy.statement-meta+json": {
              "execution_finish_time": "2023-10-06T16:06:31.6097554Z",
              "execution_start_time": "2023-10-06T16:06:31.1715113Z",
              "livy_statement_state": "available",
              "parent_msg_id": "b7712397-f746-49d9-9793-a64d64b3998d",
              "queued_time": "2023-10-06T16:06:26.7271537Z",
              "session_id": "efb436d1-09b2-43ab-a318-5b84c484989f",
              "session_start_time": null,
              "spark_jobs": {
                "jobs": [],
                "limit": 20,
                "numbers": {
                  "FAILED": 0,
                  "RUNNING": 0,
                  "SUCCEEDED": 0,
                  "UNKNOWN": 0
                },
                "rule": "ALL_DESC"
              },
              "spark_pool": null,
              "state": "finished",
              "statement_id": 26
            },
            "text/plain": [
              "StatementMeta(, efb436d1-09b2-43ab-a318-5b84c484989f, 26, Finished, Available)"
            ]
          },
          "metadata": {},
          "output_type": "display_data"
        },
        {
          "data": {
            "application/vnd.livy.statement-meta+json": {
              "execution_finish_time": "2023-10-06T16:06:34.6589142Z",
              "execution_start_time": "2023-10-06T16:06:34.2202151Z",
              "livy_statement_state": "available",
              "parent_msg_id": "acd8f81b-251d-4971-9950-7f8960551ec1",
              "queued_time": "2023-10-06T16:06:33.852722Z",
              "session_id": "efb436d1-09b2-43ab-a318-5b84c484989f",
              "session_start_time": null,
              "spark_jobs": {
                "jobs": [],
                "limit": 20,
                "numbers": {
                  "FAILED": 0,
                  "RUNNING": 0,
                  "SUCCEEDED": 0,
                  "UNKNOWN": 0
                },
                "rule": "ALL_DESC"
              },
              "spark_pool": null,
              "state": "finished",
              "statement_id": 27
            },
            "text/plain": [
              "StatementMeta(, efb436d1-09b2-43ab-a318-5b84c484989f, 27, Finished, Available)"
            ]
          },
          "metadata": {},
          "output_type": "display_data"
        },
        {
          "data": {
            "application/vnd.livy.statement-meta+json": {
              "execution_finish_time": "2023-10-06T16:06:37.1995628Z",
              "execution_start_time": "2023-10-06T16:06:36.7635779Z",
              "livy_statement_state": "available",
              "parent_msg_id": "1bd865d9-9400-49dc-9f1e-4c51264f0904",
              "queued_time": "2023-10-06T16:06:36.3995815Z",
              "session_id": "efb436d1-09b2-43ab-a318-5b84c484989f",
              "session_start_time": null,
              "spark_jobs": {
                "jobs": [],
                "limit": 20,
                "numbers": {
                  "FAILED": 0,
                  "RUNNING": 0,
                  "SUCCEEDED": 0,
                  "UNKNOWN": 0
                },
                "rule": "ALL_DESC"
              },
              "spark_pool": null,
              "state": "finished",
              "statement_id": 28
            },
            "text/plain": [
              "StatementMeta(, efb436d1-09b2-43ab-a318-5b84c484989f, 28, Finished, Available)"
            ]
          },
          "metadata": {},
          "output_type": "display_data"
        }
      ],
      "source": [
        "checkpoint_config = {\n",
        "    \"name\": f\"Store Checkpoint\",\n",
        "    \"validations\": [\n",
        "        {\n",
        "            \"expectation_suite_name\": \"Retail Store Suite\",\n",
        "            \"batch_request\": {\n",
        "                \"datasource_name\": \"Retail Analysis Data Source\",\n",
        "                \"data_asset_name\": \"Store Asset\",\n",
        "            },\n",
        "        },\n",
        "        {\n",
        "            \"expectation_suite_name\": \"Retail Measure Suite\",\n",
        "            \"batch_request\": {\n",
        "                \"datasource_name\": \"Retail Analysis Data Source\",\n",
        "                \"data_asset_name\": \"Total Units Asset\",\n",
        "            },\n",
        "        },\n",
        "        {\n",
        "            \"expectation_suite_name\": \"Retail DAX Suite\",\n",
        "            \"batch_request\": {\n",
        "                \"datasource_name\": \"Retail Analysis Data Source\",\n",
        "                \"data_asset_name\": \"Total Units YoY Asset\",\n",
        "            },\n",
        "        },\n",
        "        {\n",
        "            \"expectation_suite_name\": \"Retail DMV Suite\",\n",
        "            \"batch_request\": {\n",
        "                \"datasource_name\": \"Retail Analysis Data Source\",\n",
        "                \"data_asset_name\": \"Referential Integrity Violation\",\n",
        "            },\n",
        "        },\n",
        "    ],\n",
        "}\n",
        "checkpoint = context.add_checkpoint(\n",
        "    **checkpoint_config,\n",
        ")\n",
        "result = checkpoint.run()"
      ]
    },
    {
      "cell_type": "markdown",
      "id": "19170513-37be-4224-8fe3-108e4d1a89dc",
      "metadata": {
        "nteract": {
          "transient": {
            "deleting": false
          }
        }
      },
      "source": [
        "Extract the results for simple formatting."
      ]
    },
    {
      "cell_type": "code",
      "execution_count": 15,
      "id": "f56e3d93-86c8-4446-aaa5-202bbabb1494",
      "metadata": {
        "jupyter": {
          "outputs_hidden": false,
          "source_hidden": false
        },
        "nteract": {
          "transient": {
            "deleting": false
          }
        }
      },
      "outputs": [
        {
          "data": {
            "application/vnd.livy.statement-meta+json": {
              "execution_finish_time": "2023-10-06T16:06:52.3650787Z",
              "execution_start_time": "2023-10-06T16:06:51.921727Z",
              "livy_statement_state": "available",
              "parent_msg_id": "81dacc4f-2714-4504-8d4e-4dd039ee4aed",
              "queued_time": "2023-10-06T16:06:51.5631204Z",
              "session_id": "efb436d1-09b2-43ab-a318-5b84c484989f",
              "session_start_time": null,
              "spark_jobs": {
                "jobs": [],
                "limit": 20,
                "numbers": {
                  "FAILED": 0,
                  "RUNNING": 0,
                  "SUCCEEDED": 0,
                  "UNKNOWN": 0
                },
                "rule": "ALL_DESC"
              },
              "spark_pool": null,
              "state": "finished",
              "statement_id": 29
            },
            "text/plain": [
              "StatementMeta(, efb436d1-09b2-43ab-a318-5b84c484989f, 29, Finished, Available)"
            ]
          },
          "metadata": {},
          "output_type": "display_data"
        },
        {
          "data": {
            "text/html": [
              "<div>\n",
              "<style scoped>\n",
              "    .dataframe tbody tr th:only-of-type {\n",
              "        vertical-align: middle;\n",
              "    }\n",
              "\n",
              "    .dataframe tbody tr th {\n",
              "        vertical-align: top;\n",
              "    }\n",
              "\n",
              "    .dataframe thead th {\n",
              "        text-align: right;\n",
              "    }\n",
              "</style>\n",
              "<table border=\"1\" class=\"dataframe\">\n",
              "  <thead>\n",
              "    <tr style=\"text-align: right;\">\n",
              "      <th></th>\n",
              "      <th>Batch ID</th>\n",
              "      <th>type</th>\n",
              "      <th>success</th>\n",
              "      <th>element_count</th>\n",
              "      <th>unexpected_count</th>\n",
              "      <th>partial_unexpected_list</th>\n",
              "    </tr>\n",
              "  </thead>\n",
              "  <tbody>\n",
              "    <tr>\n",
              "      <th>0</th>\n",
              "      <td>Retail Analysis Data Source-Store Asset</td>\n",
              "      <td>expect_column_values_to_be_valid_zip5</td>\n",
              "      <td>True</td>\n",
              "      <td>104.0</td>\n",
              "      <td>0.0</td>\n",
              "      <td>[]</td>\n",
              "    </tr>\n",
              "    <tr>\n",
              "      <th>1</th>\n",
              "      <td>Retail Analysis Data Source-Store Asset</td>\n",
              "      <td>expect_column_values_to_be_valid_alabama_zip</td>\n",
              "      <td>False</td>\n",
              "      <td>104.0</td>\n",
              "      <td>104.0</td>\n",
              "      <td>[26032, 25801, 26554, 15401, 26101, 15012, 215...</td>\n",
              "    </tr>\n",
              "    <tr>\n",
              "      <th>2</th>\n",
              "      <td>Retail Analysis Data Source-Store Asset</td>\n",
              "      <td>expect_table_row_count_to_be_between</td>\n",
              "      <td>True</td>\n",
              "      <td>NaN</td>\n",
              "      <td>NaN</td>\n",
              "      <td>NaN</td>\n",
              "    </tr>\n",
              "    <tr>\n",
              "      <th>3</th>\n",
              "      <td>Retail Analysis Data Source-Total Units Asset</td>\n",
              "      <td>expect_column_values_to_be_between</td>\n",
              "      <td>True</td>\n",
              "      <td>8.0</td>\n",
              "      <td>0.0</td>\n",
              "      <td>[]</td>\n",
              "    </tr>\n",
              "    <tr>\n",
              "      <th>4</th>\n",
              "      <td>Retail Analysis Data Source-Total Units YoY Asset</td>\n",
              "      <td>expect_column_values_to_be_between</td>\n",
              "      <td>False</td>\n",
              "      <td>8.0</td>\n",
              "      <td>3.0</td>\n",
              "      <td>[0.7972605895837893, 0.7302630613281353, 0.663...</td>\n",
              "    </tr>\n",
              "    <tr>\n",
              "      <th>5</th>\n",
              "      <td>Retail Analysis Data Source-Referential Integr...</td>\n",
              "      <td>expect_column_values_to_be_between</td>\n",
              "      <td>True</td>\n",
              "      <td>84.0</td>\n",
              "      <td>0.0</td>\n",
              "      <td>[]</td>\n",
              "    </tr>\n",
              "  </tbody>\n",
              "</table>\n",
              "</div>"
            ],
            "text/plain": [
              "                                            Batch ID  \\\n",
              "0            Retail Analysis Data Source-Store Asset   \n",
              "1            Retail Analysis Data Source-Store Asset   \n",
              "2            Retail Analysis Data Source-Store Asset   \n",
              "3      Retail Analysis Data Source-Total Units Asset   \n",
              "4  Retail Analysis Data Source-Total Units YoY Asset   \n",
              "5  Retail Analysis Data Source-Referential Integr...   \n",
              "\n",
              "                                           type  success  element_count  \\\n",
              "0         expect_column_values_to_be_valid_zip5     True          104.0   \n",
              "1  expect_column_values_to_be_valid_alabama_zip    False          104.0   \n",
              "2          expect_table_row_count_to_be_between     True            NaN   \n",
              "3            expect_column_values_to_be_between     True            8.0   \n",
              "4            expect_column_values_to_be_between    False            8.0   \n",
              "5            expect_column_values_to_be_between     True           84.0   \n",
              "\n",
              "   unexpected_count                            partial_unexpected_list  \n",
              "0               0.0                                                 []  \n",
              "1             104.0  [26032, 25801, 26554, 15401, 26101, 15012, 215...  \n",
              "2               NaN                                                NaN  \n",
              "3               0.0                                                 []  \n",
              "4               3.0  [0.7972605895837893, 0.7302630613281353, 0.663...  \n",
              "5               0.0                                                 []  "
            ]
          },
          "execution_count": 61,
          "metadata": {},
          "output_type": "execute_result"
        }
      ],
      "source": [
        "import pandas as pd\n",
        "\n",
        "data = []\n",
        "\n",
        "for run_result in result.run_results:\n",
        "    for validation_result in result.run_results[run_result][\"validation_result\"][\"results\"]:\n",
        "        row = {\n",
        "            \"Batch ID\": run_result.batch_identifier,\n",
        "            \"type\": validation_result.expectation_config.expectation_type,\n",
        "            \"success\": validation_result.success\n",
        "        }\n",
        "\n",
        "        row.update(dict(validation_result.result))\n",
        "        \n",
        "        data.append(row)\n",
        "\n",
        "df = pd.DataFrame.from_records(data)    \n",
        "\n",
        "df[[\"Batch ID\", \"type\", \"success\", \"element_count\", \"unexpected_count\", \"partial_unexpected_list\"]]"
      ]
    },
    {
      "cell_type": "markdown",
      "id": "78468979-e58c-4d54-961d-f74280a56e2f",
      "metadata": {
        "nteract": {
          "transient": {
            "deleting": false
          }
        }
      },
      "source": [
        "## Diagnostics\n",
        "\n",
        "Fetch source data to understand which years are outside of the range."
      ]
    },
    {
      "cell_type": "code",
      "execution_count": 16,
      "id": "6e418e72-3f62-4db9-8601-8163b77fe969",
      "metadata": {
        "jupyter": {
          "outputs_hidden": false,
          "source_hidden": false
        },
        "nteract": {
          "transient": {
            "deleting": false
          }
        }
      },
      "outputs": [
        {
          "data": {
            "application/vnd.livy.statement-meta+json": {
              "execution_finish_time": "2023-10-06T16:07:11.8185615Z",
              "execution_start_time": "2023-10-06T16:07:10.6375484Z",
              "livy_statement_state": "available",
              "parent_msg_id": "5120f59b-e614-4c84-ad9e-601c18437e14",
              "queued_time": "2023-10-06T16:07:10.2641786Z",
              "session_id": "efb436d1-09b2-43ab-a318-5b84c484989f",
              "session_start_time": null,
              "spark_jobs": {
                "jobs": [],
                "limit": 20,
                "numbers": {
                  "FAILED": 0,
                  "RUNNING": 0,
                  "SUCCEEDED": 0,
                  "UNKNOWN": 0
                },
                "rule": "ALL_DESC"
              },
              "spark_pool": null,
              "state": "finished",
              "statement_id": 30
            },
            "text/plain": [
              "StatementMeta(, efb436d1-09b2-43ab-a318-5b84c484989f, 30, Finished, Available)"
            ]
          },
          "metadata": {},
          "output_type": "display_data"
        },
        {
          "data": {
            "text/html": [
              "<div>\n",
              "<style scoped>\n",
              "    .dataframe tbody tr th:only-of-type {\n",
              "        vertical-align: middle;\n",
              "    }\n",
              "\n",
              "    .dataframe tbody tr th {\n",
              "        vertical-align: top;\n",
              "    }\n",
              "\n",
              "    .dataframe thead th {\n",
              "        text-align: right;\n",
              "    }\n",
              "</style>\n",
              "<table border=\"1\" class=\"dataframe\">\n",
              "  <thead>\n",
              "    <tr style=\"text-align: right;\">\n",
              "      <th></th>\n",
              "      <th>Time[FiscalYear]</th>\n",
              "      <th>Time[FiscalMonth]</th>\n",
              "      <th>[Total Units Ratio]</th>\n",
              "    </tr>\n",
              "  </thead>\n",
              "  <tbody>\n",
              "    <tr>\n",
              "      <th>0</th>\n",
              "      <td>2014</td>\n",
              "      <td>Jan</td>\n",
              "      <td>0.797261</td>\n",
              "    </tr>\n",
              "    <tr>\n",
              "      <th>1</th>\n",
              "      <td>2014</td>\n",
              "      <td>Feb</td>\n",
              "      <td>0.95912</td>\n",
              "    </tr>\n",
              "    <tr>\n",
              "      <th>2</th>\n",
              "      <td>2014</td>\n",
              "      <td>Mar</td>\n",
              "      <td>1.282908</td>\n",
              "    </tr>\n",
              "    <tr>\n",
              "      <th>3</th>\n",
              "      <td>2014</td>\n",
              "      <td>Apr</td>\n",
              "      <td>0.730263</td>\n",
              "    </tr>\n",
              "    <tr>\n",
              "      <th>4</th>\n",
              "      <td>2014</td>\n",
              "      <td>May</td>\n",
              "      <td>1.084064</td>\n",
              "    </tr>\n",
              "    <tr>\n",
              "      <th>5</th>\n",
              "      <td>2014</td>\n",
              "      <td>Jun</td>\n",
              "      <td>0.969717</td>\n",
              "    </tr>\n",
              "    <tr>\n",
              "      <th>6</th>\n",
              "      <td>2014</td>\n",
              "      <td>Jul</td>\n",
              "      <td>0.663352</td>\n",
              "    </tr>\n",
              "    <tr>\n",
              "      <th>7</th>\n",
              "      <td>2014</td>\n",
              "      <td>Aug</td>\n",
              "      <td>0.810861</td>\n",
              "    </tr>\n",
              "  </tbody>\n",
              "</table>\n",
              "</div>"
            ],
            "text/plain": [
              "   Time[FiscalYear] Time[FiscalMonth]  [Total Units Ratio]\n",
              "0              2014               Jan             0.797261\n",
              "1              2014               Feb              0.95912\n",
              "2              2014               Mar             1.282908\n",
              "3              2014               Apr             0.730263\n",
              "4              2014               May             1.084064\n",
              "5              2014               Jun             0.969717\n",
              "6              2014               Jul             0.663352\n",
              "7              2014               Aug             0.810861"
            ]
          },
          "execution_count": 64,
          "metadata": {},
          "output_type": "execute_result"
        }
      ],
      "source": [
        "%%dax \"Retail Analysis Sample PBIX\"\n",
        "\n",
        "EVALUATE SUMMARIZECOLUMNS(\n",
        "    'Time'[FiscalYear],\n",
        "    'Time'[FiscalMonth],\n",
        "    \"Total Units Ratio\", DIVIDE([Total Units This Year], [Total Units Last Year])\n",
        ")"
      ]
    },
    {
      "cell_type": "code",
      "execution_count": 17,
      "id": "c92ace40-860a-46d9-aaae-6a6961dc9492",
      "metadata": {
        "jupyter": {
          "outputs_hidden": false,
          "source_hidden": false
        },
        "nteract": {
          "transient": {
            "deleting": false
          }
        }
      },
      "outputs": [
        {
          "data": {
            "application/vnd.livy.statement-meta+json": {
              "execution_finish_time": "2023-10-06T16:07:17.0963599Z",
              "execution_start_time": "2023-10-06T16:07:16.6590665Z",
              "livy_statement_state": "available",
              "parent_msg_id": "d894a808-f11d-477c-a55a-8d2ac99f3612",
              "queued_time": "2023-10-06T16:07:16.2172593Z",
              "session_id": "efb436d1-09b2-43ab-a318-5b84c484989f",
              "session_start_time": null,
              "spark_jobs": {
                "jobs": [],
                "limit": 20,
                "numbers": {
                  "FAILED": 0,
                  "RUNNING": 0,
                  "SUCCEEDED": 0,
                  "UNKNOWN": 0
                },
                "rule": "ALL_DESC"
              },
              "spark_pool": null,
              "state": "finished",
              "statement_id": 31
            },
            "text/plain": [
              "StatementMeta(, efb436d1-09b2-43ab-a318-5b84c484989f, 31, Finished, Available)"
            ]
          },
          "metadata": {},
          "output_type": "display_data"
        }
      ],
      "source": [
        "df = _"
      ]
    },
    {
      "cell_type": "code",
      "execution_count": 19,
      "id": "4038027b-7a54-41e5-944a-e0fe6fb3c00a",
      "metadata": {
        "jupyter": {
          "outputs_hidden": false,
          "source_hidden": false
        },
        "nteract": {
          "transient": {
            "deleting": false
          }
        }
      },
      "outputs": [
        {
          "data": {
            "application/vnd.livy.statement-meta+json": {
              "execution_finish_time": "2023-10-06T16:07:23.763235Z",
              "execution_start_time": "2023-10-06T16:07:23.2688828Z",
              "livy_statement_state": "available",
              "parent_msg_id": "2d2bdb4d-6d5a-49f4-bde0-60ccd5eb522c",
              "queued_time": "2023-10-06T16:07:22.8665463Z",
              "session_id": "efb436d1-09b2-43ab-a318-5b84c484989f",
              "session_start_time": null,
              "spark_jobs": {
                "jobs": [],
                "limit": 20,
                "numbers": {
                  "FAILED": 0,
                  "RUNNING": 0,
                  "SUCCEEDED": 0,
                  "UNKNOWN": 0
                },
                "rule": "ALL_DESC"
              },
              "spark_pool": null,
              "state": "finished",
              "statement_id": 33
            },
            "text/plain": [
              "StatementMeta(, efb436d1-09b2-43ab-a318-5b84c484989f, 33, Finished, Available)"
            ]
          },
          "metadata": {},
          "output_type": "display_data"
        },
        {
          "data": {
            "image/png": "[encoded data removed]",
            "text/plain": [
              "<Figure size 640x480 with 1 Axes>"
            ]
          },
          "metadata": {},
          "output_type": "display_data"
        }
      ],
      "source": [
        "import matplotlib.pyplot as plt\n",
        "\n",
        "df[\"Total Units % Change YoY\"] = (df[\"[Total Units Ratio]\"] - 1)\n",
        "\n",
        "df.set_index([\"Time[FiscalYear]\", \"Time[FiscalMonth]\"]).plot.bar(y=\"Total Units % Change YoY\")\n",
        "\n",
        "plt.axhline(0)\n",
        "\n",
        "plt.axhline(-0.2, color=\"red\", linestyle=\"dotted\")\n",
        "plt.axhline( 0.5, color=\"red\", linestyle=\"dotted\")\n",
        "\n",
        "None"
      ]
    }
  ],
  "metadata": {
    "kernel_info": {
      "name": "synapse_pyspark"
    },
    "kernelspec": {
      "display_name": "Synapse PySpark",
      "language": "Python",
      "name": "synapse_pyspark"
    },
    "language_info": {
      "name": "python"
    },
    "microsoft": {
      "host": {},
      "language": "python",
      "ms_spell_check": {
        "ms_spell_check_language": "en"
      }
    },
    "notebook_environment": {},
    "nteract": {
      "version": "nteract-front-end@1.0.0"
    },
    "save_output": true,
    "spark_compute": {
      "compute_id": "/trident/default",
      "session_options": {
        "conf": {},
        "enableDebugMode": false
      }
    },
    "synapse_widget": {
      "state": {},
      "version": "0.1"
    },
    "widgets": {
      "application/vnd.jupyter.widget-state+json": {
        "state": {
          "08f1f34224cb4e6eb6c8c62fa7d9af9b": {
            "model_module": "@jupyter-widgets/base",
            "model_module_version": "2.0.0",
            "model_name": "LayoutModel",
            "state": {}
          },
          "0b4eec21f41f45369cb20dde6d193832": {
            "model_module": "@jupyter-widgets/base",
            "model_module_version": "2.0.0",
            "model_name": "LayoutModel",
            "state": {}
          },
          "0c628bac0c1f4acfaa332846a3b21f9e": {
            "model_module": "@jupyter-widgets/base",
            "model_module_version": "2.0.0",
            "model_name": "LayoutModel",
            "state": {}
          },
          "0e4c93f5426b4315aa2575e71232c3af": {
            "model_module": "@jupyter-widgets/controls",
            "model_module_version": "2.0.0",
            "model_name": "HBoxModel",
            "state": {
              "children": [
                "IPY_MODEL_4e53f6c3aa44467d85322441671e3dcc",
                "IPY_MODEL_26a08c4991434032b89be790b0b37a4d",
                "IPY_MODEL_8b9de239d5044625b4db2daf9bec140e"
              ],
              "layout": "IPY_MODEL_8d49c9c80f07407eaa8052e8d1a32408"
            }
          },
          "10d062f5e3c94c2e8c5671b8eec98acf": {
            "model_module": "@jupyter-widgets/controls",
            "model_module_version": "2.0.0",
            "model_name": "HTMLStyleModel",
            "state": {
              "description_width": "",
              "font_size": null,
              "text_color": null
            }
          },
          "11795ba1e8cf4974a8fbb1ce6379e018": {
            "model_module": "@jupyter-widgets/controls",
            "model_module_version": "2.0.0",
            "model_name": "FloatProgressModel",
            "state": {
              "bar_style": "success",
              "layout": "IPY_MODEL_17631583a1594f0caaf0a105e0c16914",
              "max": 15,
              "style": "IPY_MODEL_c1a7b5af387449b78c91462c2a06ac84",
              "value": 15
            }
          },
          "17631583a1594f0caaf0a105e0c16914": {
            "model_module": "@jupyter-widgets/base",
            "model_module_version": "2.0.0",
            "model_name": "LayoutModel",
            "state": {}
          },
          "17a7fdc6a9534c00bd3e108cee2a57ab": {
            "model_module": "@jupyter-widgets/base",
            "model_module_version": "2.0.0",
            "model_name": "LayoutModel",
            "state": {}
          },
          "1a58f422ed534d8da5a21ab4590e9965": {
            "model_module": "@jupyter-widgets/controls",
            "model_module_version": "2.0.0",
            "model_name": "ProgressStyleModel",
            "state": {
              "description_width": ""
            }
          },
          "1c13680bc2e443b0a0f6cd17a2450ab6": {
            "model_module": "@jupyter-widgets/base",
            "model_module_version": "2.0.0",
            "model_name": "LayoutModel",
            "state": {}
          },
          "1c95ba04d081471ca95cd4d4f775c607": {
            "model_module": "@jupyter-widgets/base",
            "model_module_version": "2.0.0",
            "model_name": "LayoutModel",
            "state": {}
          },
          "1cc7ce6f2e594f9d9d26e5accca6e820": {
            "model_module": "@jupyter-widgets/controls",
            "model_module_version": "2.0.0",
            "model_name": "FloatProgressModel",
            "state": {
              "bar_style": "success",
              "layout": "IPY_MODEL_5a8ca75e0086492a9217fa0cc98e6ade",
              "max": 10,
              "style": "IPY_MODEL_4cdd953c1eda4550a4b787edbcb9947d",
              "value": 10
            }
          },
          "1f7e98b6d2be40eea9262be9cfe4cb73": {
            "model_module": "@jupyter-widgets/controls",
            "model_module_version": "2.0.0",
            "model_name": "ProgressStyleModel",
            "state": {
              "description_width": ""
            }
          },
          "2288381827cb4420b122bb9806ad6708": {
            "model_module": "@jupyter-widgets/controls",
            "model_module_version": "2.0.0",
            "model_name": "HTMLModel",
            "state": {
              "layout": "IPY_MODEL_480eedf3e7614735aa6d9e82023518d3",
              "style": "IPY_MODEL_a1935efbf20944ce87bd64a14a920d00",
              "value": "Calculating Metrics: 100%"
            }
          },
          "26a08c4991434032b89be790b0b37a4d": {
            "model_module": "@jupyter-widgets/controls",
            "model_module_version": "2.0.0",
            "model_name": "FloatProgressModel",
            "state": {
              "bar_style": "success",
              "layout": "IPY_MODEL_d514b9729f6944689f9ca3efb0361cdb",
              "max": 10,
              "style": "IPY_MODEL_a33c38bc403444c9b0ceb95726f93717",
              "value": 10
            }
          },
          "299b3065aa23426895cb128bf6eccc1c": {
            "model_module": "@jupyter-widgets/controls",
            "model_module_version": "2.0.0",
            "model_name": "HTMLStyleModel",
            "state": {
              "description_width": "",
              "font_size": null,
              "text_color": null
            }
          },
          "2a6d7a8e8c8b48eea7f4661a122d9ec0": {
            "model_module": "@jupyter-widgets/base",
            "model_module_version": "2.0.0",
            "model_name": "LayoutModel",
            "state": {}
          },
          "2c4fa27697244b408c827c61f8d0adcc": {
            "model_module": "@jupyter-widgets/controls",
            "model_module_version": "2.0.0",
            "model_name": "FloatProgressModel",
            "state": {
              "bar_style": "success",
              "layout": "IPY_MODEL_1c95ba04d081471ca95cd4d4f775c607",
              "max": 10,
              "style": "IPY_MODEL_8e475d6b61584e7ea194a644e28d6d8f",
              "value": 10
            }
          },
          "2e48ee6b76e64844964ad219ca94053a": {
            "model_module": "@jupyter-widgets/base",
            "model_module_version": "2.0.0",
            "model_name": "LayoutModel",
            "state": {}
          },
          "2fc96394849f4f1988ede20095c43dca": {
            "model_module": "@jupyter-widgets/controls",
            "model_module_version": "2.0.0",
            "model_name": "HTMLModel",
            "state": {
              "layout": "IPY_MODEL_b8ced18da7244bebb3078e20d41a5566",
              "style": "IPY_MODEL_9a671dcfce434b9a890a08ec735cb19f",
              "value": " 15/15 [00:02&lt;00:00,  2.25it/s]"
            }
          },
          "30d3ec7fcb0743d0b1823064e747af01": {
            "model_module": "@jupyter-widgets/controls",
            "model_module_version": "2.0.0",
            "model_name": "HTMLStyleModel",
            "state": {
              "description_width": "",
              "font_size": null,
              "text_color": null
            }
          },
          "30f7a1dcad3942efbdff19d9c6b45781": {
            "model_module": "@jupyter-widgets/base",
            "model_module_version": "2.0.0",
            "model_name": "LayoutModel",
            "state": {}
          },
          "31e0b243c44b40adaf1affa051d5eb7f": {
            "model_module": "@jupyter-widgets/controls",
            "model_module_version": "2.0.0",
            "model_name": "HBoxModel",
            "state": {
              "children": [
                "IPY_MODEL_cb00ca83e21843338d9e8efa6c5d9d93",
                "IPY_MODEL_d1ae65e3306c41638c75e9e97def2254",
                "IPY_MODEL_b505238e7cbe4034a3e8e109bfe3e076"
              ],
              "layout": "IPY_MODEL_eb97c9f5dfed4025a4c44b0f84deda81"
            }
          },
          "3373ac9153ea4a7296fc2d819b738345": {
            "model_module": "@jupyter-widgets/controls",
            "model_module_version": "2.0.0",
            "model_name": "HBoxModel",
            "state": {
              "children": [
                "IPY_MODEL_ba32667783f1426b99d06a4642dec60b",
                "IPY_MODEL_2c4fa27697244b408c827c61f8d0adcc",
                "IPY_MODEL_eabed93b04fa423cbdabc2da18d3b3b2"
              ],
              "layout": "IPY_MODEL_f2f480406dcb455e8c78b9add61d4b3e"
            }
          },
          "3fd9647f1eba4581a19eb73560a37118": {
            "model_module": "@jupyter-widgets/base",
            "model_module_version": "2.0.0",
            "model_name": "LayoutModel",
            "state": {}
          },
          "44758cb93a6741eaa9795d501ccbd816": {
            "model_module": "@jupyter-widgets/controls",
            "model_module_version": "2.0.0",
            "model_name": "HTMLStyleModel",
            "state": {
              "description_width": "",
              "font_size": null,
              "text_color": null
            }
          },
          "4760909e5fb249e697f3ca091ac2aefe": {
            "model_module": "@jupyter-widgets/base",
            "model_module_version": "2.0.0",
            "model_name": "LayoutModel",
            "state": {}
          },
          "47755a59f5e24f53932f40b3c992d724": {
            "model_module": "@jupyter-widgets/controls",
            "model_module_version": "2.0.0",
            "model_name": "HTMLStyleModel",
            "state": {
              "description_width": "",
              "font_size": null,
              "text_color": null
            }
          },
          "47d1b7f1ecc743148616c099fdd09b33": {
            "model_module": "@jupyter-widgets/controls",
            "model_module_version": "2.0.0",
            "model_name": "HTMLStyleModel",
            "state": {
              "description_width": "",
              "font_size": null,
              "text_color": null
            }
          },
          "480eedf3e7614735aa6d9e82023518d3": {
            "model_module": "@jupyter-widgets/base",
            "model_module_version": "2.0.0",
            "model_name": "LayoutModel",
            "state": {}
          },
          "4cdd953c1eda4550a4b787edbcb9947d": {
            "model_module": "@jupyter-widgets/controls",
            "model_module_version": "2.0.0",
            "model_name": "ProgressStyleModel",
            "state": {
              "description_width": ""
            }
          },
          "4e53f6c3aa44467d85322441671e3dcc": {
            "model_module": "@jupyter-widgets/controls",
            "model_module_version": "2.0.0",
            "model_name": "HTMLModel",
            "state": {
              "layout": "IPY_MODEL_b4ab94777b824a688a53c48f9134150d",
              "style": "IPY_MODEL_10d062f5e3c94c2e8c5671b8eec98acf",
              "value": "Calculating Metrics: 100%"
            }
          },
          "514790312b0e46b59769cbb16cb2125b": {
            "model_module": "@jupyter-widgets/controls",
            "model_module_version": "2.0.0",
            "model_name": "HTMLStyleModel",
            "state": {
              "description_width": "",
              "font_size": null,
              "text_color": null
            }
          },
          "5176bc44bc27436b812b580a7a1eaba8": {
            "model_module": "@jupyter-widgets/controls",
            "model_module_version": "2.0.0",
            "model_name": "HTMLStyleModel",
            "state": {
              "description_width": "",
              "font_size": null,
              "text_color": null
            }
          },
          "5712ab4529f34a77a3e4534c4e37aae9": {
            "model_module": "@jupyter-widgets/controls",
            "model_module_version": "2.0.0",
            "model_name": "HTMLModel",
            "state": {
              "layout": "IPY_MODEL_2e48ee6b76e64844964ad219ca94053a",
              "style": "IPY_MODEL_765a59ce9a454678b2089262a841e764",
              "value": " 10/10 [00:00&lt;00:00, 242.03it/s]"
            }
          },
          "57adfc97d8c642289178712872478fa4": {
            "model_module": "@jupyter-widgets/controls",
            "model_module_version": "2.0.0",
            "model_name": "FloatProgressModel",
            "state": {
              "bar_style": "success",
              "layout": "IPY_MODEL_2a6d7a8e8c8b48eea7f4661a122d9ec0",
              "max": 10,
              "style": "IPY_MODEL_957cfffb5d694896bc82d51dda283c72",
              "value": 10
            }
          },
          "5a8ca75e0086492a9217fa0cc98e6ade": {
            "model_module": "@jupyter-widgets/base",
            "model_module_version": "2.0.0",
            "model_name": "LayoutModel",
            "state": {}
          },
          "5c5ff2e6ea2740cba4039527bda3c82d": {
            "model_module": "@jupyter-widgets/controls",
            "model_module_version": "2.0.0",
            "model_name": "ProgressStyleModel",
            "state": {
              "description_width": ""
            }
          },
          "5dfffa73608b45df8bfb851dae312cb2": {
            "model_module": "@jupyter-widgets/controls",
            "model_module_version": "2.0.0",
            "model_name": "HTMLModel",
            "state": {
              "layout": "IPY_MODEL_0c628bac0c1f4acfaa332846a3b21f9e",
              "style": "IPY_MODEL_299b3065aa23426895cb128bf6eccc1c",
              "value": " 10/10 [00:00&lt;00:00, 197.51it/s]"
            }
          },
          "5f2049df79df4704b0913e347faeffb7": {
            "model_module": "@jupyter-widgets/base",
            "model_module_version": "2.0.0",
            "model_name": "LayoutModel",
            "state": {}
          },
          "5f97dd21bd934f4099fa229ff179a959": {
            "model_module": "@jupyter-widgets/base",
            "model_module_version": "2.0.0",
            "model_name": "LayoutModel",
            "state": {}
          },
          "61a84f33864b4859b9232b6696b4e6c5": {
            "model_module": "@jupyter-widgets/controls",
            "model_module_version": "2.0.0",
            "model_name": "HTMLStyleModel",
            "state": {
              "description_width": "",
              "font_size": null,
              "text_color": null
            }
          },
          "65a35c4ae6d94ad988b2b3c8551618d0": {
            "model_module": "@jupyter-widgets/base",
            "model_module_version": "2.0.0",
            "model_name": "LayoutModel",
            "state": {}
          },
          "6d9c699b4aac4084bf9e55cc170492a4": {
            "model_module": "@jupyter-widgets/base",
            "model_module_version": "2.0.0",
            "model_name": "LayoutModel",
            "state": {}
          },
          "711815f57f2441e88d3b3d8d1ae8fabc": {
            "model_module": "@jupyter-widgets/base",
            "model_module_version": "2.0.0",
            "model_name": "LayoutModel",
            "state": {}
          },
          "7178c0aaeaff4445b1617db9a7130915": {
            "model_module": "@jupyter-widgets/controls",
            "model_module_version": "2.0.0",
            "model_name": "HTMLModel",
            "state": {
              "layout": "IPY_MODEL_e6c90c375eb346cb8e038adff07b63b8",
              "style": "IPY_MODEL_e0de97f45c554507ace059f92febdf01",
              "value": " 10/10 [00:00&lt;00:00, 223.54it/s]"
            }
          },
          "741df4b23925413cb7cc0126e829c8cd": {
            "model_module": "@jupyter-widgets/controls",
            "model_module_version": "2.0.0",
            "model_name": "FloatProgressModel",
            "state": {
              "bar_style": "success",
              "layout": "IPY_MODEL_3fd9647f1eba4581a19eb73560a37118",
              "max": 15,
              "style": "IPY_MODEL_8ae29cb8c2224078966bbccfd122c1a1",
              "value": 15
            }
          },
          "765a59ce9a454678b2089262a841e764": {
            "model_module": "@jupyter-widgets/controls",
            "model_module_version": "2.0.0",
            "model_name": "HTMLStyleModel",
            "state": {
              "description_width": "",
              "font_size": null,
              "text_color": null
            }
          },
          "78a2f193fb674bfaa3a67a8a4fd73572": {
            "model_module": "@jupyter-widgets/base",
            "model_module_version": "2.0.0",
            "model_name": "LayoutModel",
            "state": {}
          },
          "7a988fa65bb9408a9fd157131630f780": {
            "model_module": "@jupyter-widgets/base",
            "model_module_version": "2.0.0",
            "model_name": "LayoutModel",
            "state": {}
          },
          "7be0d8bd24f14aa7917296ff501c29cf": {
            "model_module": "@jupyter-widgets/controls",
            "model_module_version": "2.0.0",
            "model_name": "HTMLModel",
            "state": {
              "layout": "IPY_MODEL_0b4eec21f41f45369cb20dde6d193832",
              "style": "IPY_MODEL_47755a59f5e24f53932f40b3c992d724",
              "value": "Calculating Metrics: 100%"
            }
          },
          "7eb66783da55483b8518240a182f78bb": {
            "model_module": "@jupyter-widgets/controls",
            "model_module_version": "2.0.0",
            "model_name": "HTMLModel",
            "state": {
              "layout": "IPY_MODEL_5f97dd21bd934f4099fa229ff179a959",
              "style": "IPY_MODEL_514790312b0e46b59769cbb16cb2125b",
              "value": "Calculating Metrics: 100%"
            }
          },
          "835d9b3d7e2342b29d07d0538fd9dfec": {
            "model_module": "@jupyter-widgets/controls",
            "model_module_version": "2.0.0",
            "model_name": "HTMLStyleModel",
            "state": {
              "description_width": "",
              "font_size": null,
              "text_color": null
            }
          },
          "8ae29cb8c2224078966bbccfd122c1a1": {
            "model_module": "@jupyter-widgets/controls",
            "model_module_version": "2.0.0",
            "model_name": "ProgressStyleModel",
            "state": {
              "description_width": ""
            }
          },
          "8b9de239d5044625b4db2daf9bec140e": {
            "model_module": "@jupyter-widgets/controls",
            "model_module_version": "2.0.0",
            "model_name": "HTMLModel",
            "state": {
              "layout": "IPY_MODEL_9ac8254942e145a2ae44c2476e78b8bf",
              "style": "IPY_MODEL_fff3e7933b02490aba3cd5ea311adf2b",
              "value": " 10/10 [00:00&lt;00:00, 284.95it/s]"
            }
          },
          "8b9fd5adeeb74b8587137b16c2847576": {
            "model_module": "@jupyter-widgets/controls",
            "model_module_version": "2.0.0",
            "model_name": "FloatProgressModel",
            "state": {
              "bar_style": "success",
              "layout": "IPY_MODEL_4760909e5fb249e697f3ca091ac2aefe",
              "max": 10,
              "style": "IPY_MODEL_1a58f422ed534d8da5a21ab4590e9965",
              "value": 10
            }
          },
          "8d49c9c80f07407eaa8052e8d1a32408": {
            "model_module": "@jupyter-widgets/base",
            "model_module_version": "2.0.0",
            "model_name": "LayoutModel",
            "state": {}
          },
          "8dc219c5c2eb4aff8350f5595c4b4d3d": {
            "model_module": "@jupyter-widgets/controls",
            "model_module_version": "2.0.0",
            "model_name": "HTMLModel",
            "state": {
              "layout": "IPY_MODEL_c468c82297aa4a7b8db4f25788a1897a",
              "style": "IPY_MODEL_835d9b3d7e2342b29d07d0538fd9dfec",
              "value": "Calculating Metrics: 100%"
            }
          },
          "8e475d6b61584e7ea194a644e28d6d8f": {
            "model_module": "@jupyter-widgets/controls",
            "model_module_version": "2.0.0",
            "model_name": "ProgressStyleModel",
            "state": {
              "description_width": ""
            }
          },
          "8ed164bb58f948bf9a1c638dc4826516": {
            "model_module": "@jupyter-widgets/controls",
            "model_module_version": "2.0.0",
            "model_name": "HBoxModel",
            "state": {
              "children": [
                "IPY_MODEL_c44c1cb337d8474bac8936c2a465847d",
                "IPY_MODEL_e305b372377a4005900a9853ec571a3c",
                "IPY_MODEL_7178c0aaeaff4445b1617db9a7130915"
              ],
              "layout": "IPY_MODEL_1c13680bc2e443b0a0f6cd17a2450ab6"
            }
          },
          "938d93e78720411d9b097ff15ca86424": {
            "model_module": "@jupyter-widgets/base",
            "model_module_version": "2.0.0",
            "model_name": "LayoutModel",
            "state": {}
          },
          "957cfffb5d694896bc82d51dda283c72": {
            "model_module": "@jupyter-widgets/controls",
            "model_module_version": "2.0.0",
            "model_name": "ProgressStyleModel",
            "state": {
              "description_width": ""
            }
          },
          "978c51c82f4d46dd8ca8614f5100384c": {
            "model_module": "@jupyter-widgets/base",
            "model_module_version": "2.0.0",
            "model_name": "LayoutModel",
            "state": {}
          },
          "984df8e4517345d5bedc42960f159641": {
            "model_module": "@jupyter-widgets/controls",
            "model_module_version": "2.0.0",
            "model_name": "HBoxModel",
            "state": {
              "children": [
                "IPY_MODEL_cc1b922fff124743ba8525f04ddb1131",
                "IPY_MODEL_8b9fd5adeeb74b8587137b16c2847576",
                "IPY_MODEL_cbfb4301666345dfa4ef0cc3c8498806"
              ],
              "layout": "IPY_MODEL_30f7a1dcad3942efbdff19d9c6b45781"
            }
          },
          "9a671dcfce434b9a890a08ec735cb19f": {
            "model_module": "@jupyter-widgets/controls",
            "model_module_version": "2.0.0",
            "model_name": "HTMLStyleModel",
            "state": {
              "description_width": "",
              "font_size": null,
              "text_color": null
            }
          },
          "9aaecd6421ef4de99ac7bfe7e4d3bcf5": {
            "model_module": "@jupyter-widgets/controls",
            "model_module_version": "2.0.0",
            "model_name": "HTMLStyleModel",
            "state": {
              "description_width": "",
              "font_size": null,
              "text_color": null
            }
          },
          "9ac8254942e145a2ae44c2476e78b8bf": {
            "model_module": "@jupyter-widgets/base",
            "model_module_version": "2.0.0",
            "model_name": "LayoutModel",
            "state": {}
          },
          "9c53f668ad924d50b70123576401df59": {
            "model_module": "@jupyter-widgets/controls",
            "model_module_version": "2.0.0",
            "model_name": "ProgressStyleModel",
            "state": {
              "description_width": ""
            }
          },
          "9d7507c9d4ef435ca6a988f940f6e60d": {
            "model_module": "@jupyter-widgets/base",
            "model_module_version": "2.0.0",
            "model_name": "LayoutModel",
            "state": {}
          },
          "9e56a3bc1d2042e187e5b26b49c29cf4": {
            "model_module": "@jupyter-widgets/base",
            "model_module_version": "2.0.0",
            "model_name": "LayoutModel",
            "state": {}
          },
          "9fd09242d2134256b8bb4956ba78b0ff": {
            "model_module": "@jupyter-widgets/controls",
            "model_module_version": "2.0.0",
            "model_name": "HTMLStyleModel",
            "state": {
              "description_width": "",
              "font_size": null,
              "text_color": null
            }
          },
          "a17dd90ccedb458393c91be4323ca6ec": {
            "model_module": "@jupyter-widgets/controls",
            "model_module_version": "2.0.0",
            "model_name": "HTMLStyleModel",
            "state": {
              "description_width": "",
              "font_size": null,
              "text_color": null
            }
          },
          "a1935efbf20944ce87bd64a14a920d00": {
            "model_module": "@jupyter-widgets/controls",
            "model_module_version": "2.0.0",
            "model_name": "HTMLStyleModel",
            "state": {
              "description_width": "",
              "font_size": null,
              "text_color": null
            }
          },
          "a2269c24609b4a14925be9f4805d44f4": {
            "model_module": "@jupyter-widgets/base",
            "model_module_version": "2.0.0",
            "model_name": "LayoutModel",
            "state": {}
          },
          "a33c38bc403444c9b0ceb95726f93717": {
            "model_module": "@jupyter-widgets/controls",
            "model_module_version": "2.0.0",
            "model_name": "ProgressStyleModel",
            "state": {
              "description_width": ""
            }
          },
          "a5c589a4cd664578871a24b19aedb197": {
            "model_module": "@jupyter-widgets/base",
            "model_module_version": "2.0.0",
            "model_name": "LayoutModel",
            "state": {}
          },
          "a859ae1e84e045a2ad514653a697b4ff": {
            "model_module": "@jupyter-widgets/controls",
            "model_module_version": "2.0.0",
            "model_name": "HTMLModel",
            "state": {
              "layout": "IPY_MODEL_9d7507c9d4ef435ca6a988f940f6e60d",
              "style": "IPY_MODEL_9fd09242d2134256b8bb4956ba78b0ff",
              "value": " 15/15 [00:02&lt;00:00,  2.29it/s]"
            }
          },
          "af3fc68e9ecf4520a37e61b1420bf132": {
            "model_module": "@jupyter-widgets/controls",
            "model_module_version": "2.0.0",
            "model_name": "HBoxModel",
            "state": {
              "children": [
                "IPY_MODEL_8dc219c5c2eb4aff8350f5595c4b4d3d",
                "IPY_MODEL_ebefeec8ff47406fbc2384281d6f77f1",
                "IPY_MODEL_5dfffa73608b45df8bfb851dae312cb2"
              ],
              "layout": "IPY_MODEL_f3e69d0f80a5488aac87b1270abbf07b"
            }
          },
          "b0b1690ccb1647dca250073e55c5c8ec": {
            "model_module": "@jupyter-widgets/controls",
            "model_module_version": "2.0.0",
            "model_name": "HBoxModel",
            "state": {
              "children": [
                "IPY_MODEL_7eb66783da55483b8518240a182f78bb",
                "IPY_MODEL_57adfc97d8c642289178712872478fa4",
                "IPY_MODEL_5712ab4529f34a77a3e4534c4e37aae9"
              ],
              "layout": "IPY_MODEL_17a7fdc6a9534c00bd3e108cee2a57ab"
            }
          },
          "b4ab94777b824a688a53c48f9134150d": {
            "model_module": "@jupyter-widgets/base",
            "model_module_version": "2.0.0",
            "model_name": "LayoutModel",
            "state": {}
          },
          "b505238e7cbe4034a3e8e109bfe3e076": {
            "model_module": "@jupyter-widgets/controls",
            "model_module_version": "2.0.0",
            "model_name": "HTMLModel",
            "state": {
              "layout": "IPY_MODEL_78a2f193fb674bfaa3a67a8a4fd73572",
              "style": "IPY_MODEL_61a84f33864b4859b9232b6696b4e6c5",
              "value": " 15/15 [00:03&lt;00:00,  1.92it/s]"
            }
          },
          "b86bcf2e352c4273937fbf3b9fad71a6": {
            "model_module": "@jupyter-widgets/base",
            "model_module_version": "2.0.0",
            "model_name": "LayoutModel",
            "state": {}
          },
          "b8ced18da7244bebb3078e20d41a5566": {
            "model_module": "@jupyter-widgets/base",
            "model_module_version": "2.0.0",
            "model_name": "LayoutModel",
            "state": {}
          },
          "ba32667783f1426b99d06a4642dec60b": {
            "model_module": "@jupyter-widgets/controls",
            "model_module_version": "2.0.0",
            "model_name": "HTMLModel",
            "state": {
              "layout": "IPY_MODEL_711815f57f2441e88d3b3d8d1ae8fabc",
              "style": "IPY_MODEL_47d1b7f1ecc743148616c099fdd09b33",
              "value": "Calculating Metrics: 100%"
            }
          },
          "c1a7b5af387449b78c91462c2a06ac84": {
            "model_module": "@jupyter-widgets/controls",
            "model_module_version": "2.0.0",
            "model_name": "ProgressStyleModel",
            "state": {
              "description_width": ""
            }
          },
          "c44c1cb337d8474bac8936c2a465847d": {
            "model_module": "@jupyter-widgets/controls",
            "model_module_version": "2.0.0",
            "model_name": "HTMLModel",
            "state": {
              "layout": "IPY_MODEL_a5c589a4cd664578871a24b19aedb197",
              "style": "IPY_MODEL_9aaecd6421ef4de99ac7bfe7e4d3bcf5",
              "value": "Calculating Metrics: 100%"
            }
          },
          "c468c82297aa4a7b8db4f25788a1897a": {
            "model_module": "@jupyter-widgets/base",
            "model_module_version": "2.0.0",
            "model_name": "LayoutModel",
            "state": {}
          },
          "c740791315ca4d73973b8d7bdde856cd": {
            "model_module": "@jupyter-widgets/controls",
            "model_module_version": "2.0.0",
            "model_name": "HTMLStyleModel",
            "state": {
              "description_width": "",
              "font_size": null,
              "text_color": null
            }
          },
          "cb00ca83e21843338d9e8efa6c5d9d93": {
            "model_module": "@jupyter-widgets/controls",
            "model_module_version": "2.0.0",
            "model_name": "HTMLModel",
            "state": {
              "layout": "IPY_MODEL_938d93e78720411d9b097ff15ca86424",
              "style": "IPY_MODEL_c740791315ca4d73973b8d7bdde856cd",
              "value": "Calculating Metrics: 100%"
            }
          },
          "cb717beaac274f42b5056674f1566a41": {
            "model_module": "@jupyter-widgets/controls",
            "model_module_version": "2.0.0",
            "model_name": "HTMLStyleModel",
            "state": {
              "description_width": "",
              "font_size": null,
              "text_color": null
            }
          },
          "cbb4eb7c51154bfc852a0ff805881768": {
            "model_module": "@jupyter-widgets/controls",
            "model_module_version": "2.0.0",
            "model_name": "HTMLModel",
            "state": {
              "layout": "IPY_MODEL_978c51c82f4d46dd8ca8614f5100384c",
              "style": "IPY_MODEL_a17dd90ccedb458393c91be4323ca6ec",
              "value": "Calculating Metrics: 100%"
            }
          },
          "cbfb4301666345dfa4ef0cc3c8498806": {
            "model_module": "@jupyter-widgets/controls",
            "model_module_version": "2.0.0",
            "model_name": "HTMLModel",
            "state": {
              "layout": "IPY_MODEL_65a35c4ae6d94ad988b2b3c8551618d0",
              "style": "IPY_MODEL_cb717beaac274f42b5056674f1566a41",
              "value": " 10/10 [00:00&lt;00:00, 197.19it/s]"
            }
          },
          "cc1b922fff124743ba8525f04ddb1131": {
            "model_module": "@jupyter-widgets/controls",
            "model_module_version": "2.0.0",
            "model_name": "HTMLModel",
            "state": {
              "layout": "IPY_MODEL_7a988fa65bb9408a9fd157131630f780",
              "style": "IPY_MODEL_5176bc44bc27436b812b580a7a1eaba8",
              "value": "Calculating Metrics: 100%"
            }
          },
          "d1ae65e3306c41638c75e9e97def2254": {
            "model_module": "@jupyter-widgets/controls",
            "model_module_version": "2.0.0",
            "model_name": "FloatProgressModel",
            "state": {
              "bar_style": "success",
              "layout": "IPY_MODEL_08f1f34224cb4e6eb6c8c62fa7d9af9b",
              "max": 15,
              "style": "IPY_MODEL_9c53f668ad924d50b70123576401df59",
              "value": 15
            }
          },
          "d1b4f232ecad47719b8ab2837b12c691": {
            "model_module": "@jupyter-widgets/controls",
            "model_module_version": "2.0.0",
            "model_name": "HBoxModel",
            "state": {
              "children": [
                "IPY_MODEL_cbb4eb7c51154bfc852a0ff805881768",
                "IPY_MODEL_741df4b23925413cb7cc0126e829c8cd",
                "IPY_MODEL_a859ae1e84e045a2ad514653a697b4ff"
              ],
              "layout": "IPY_MODEL_d7aaabe8b7c442a5a7ed5c5ddd1538a6"
            }
          },
          "d39c649d33ea40d69d27e5aa926f9369": {
            "model_module": "@jupyter-widgets/base",
            "model_module_version": "2.0.0",
            "model_name": "LayoutModel",
            "state": {}
          },
          "d514b9729f6944689f9ca3efb0361cdb": {
            "model_module": "@jupyter-widgets/base",
            "model_module_version": "2.0.0",
            "model_name": "LayoutModel",
            "state": {}
          },
          "d7aaabe8b7c442a5a7ed5c5ddd1538a6": {
            "model_module": "@jupyter-widgets/base",
            "model_module_version": "2.0.0",
            "model_name": "LayoutModel",
            "state": {}
          },
          "e0de97f45c554507ace059f92febdf01": {
            "model_module": "@jupyter-widgets/controls",
            "model_module_version": "2.0.0",
            "model_name": "HTMLStyleModel",
            "state": {
              "description_width": "",
              "font_size": null,
              "text_color": null
            }
          },
          "e305b372377a4005900a9853ec571a3c": {
            "model_module": "@jupyter-widgets/controls",
            "model_module_version": "2.0.0",
            "model_name": "FloatProgressModel",
            "state": {
              "bar_style": "success",
              "layout": "IPY_MODEL_b86bcf2e352c4273937fbf3b9fad71a6",
              "max": 10,
              "style": "IPY_MODEL_5c5ff2e6ea2740cba4039527bda3c82d",
              "value": 10
            }
          },
          "e5be9e12aaec43c1a390cecb2ca816ff": {
            "model_module": "@jupyter-widgets/controls",
            "model_module_version": "2.0.0",
            "model_name": "HBoxModel",
            "state": {
              "children": [
                "IPY_MODEL_7be0d8bd24f14aa7917296ff501c29cf",
                "IPY_MODEL_11795ba1e8cf4974a8fbb1ce6379e018",
                "IPY_MODEL_2fc96394849f4f1988ede20095c43dca"
              ],
              "layout": "IPY_MODEL_9e56a3bc1d2042e187e5b26b49c29cf4"
            }
          },
          "e6c90c375eb346cb8e038adff07b63b8": {
            "model_module": "@jupyter-widgets/base",
            "model_module_version": "2.0.0",
            "model_name": "LayoutModel",
            "state": {}
          },
          "eabed93b04fa423cbdabc2da18d3b3b2": {
            "model_module": "@jupyter-widgets/controls",
            "model_module_version": "2.0.0",
            "model_name": "HTMLModel",
            "state": {
              "layout": "IPY_MODEL_5f2049df79df4704b0913e347faeffb7",
              "style": "IPY_MODEL_44758cb93a6741eaa9795d501ccbd816",
              "value": " 10/10 [00:00&lt;00:00, 265.42it/s]"
            }
          },
          "eb97c9f5dfed4025a4c44b0f84deda81": {
            "model_module": "@jupyter-widgets/base",
            "model_module_version": "2.0.0",
            "model_name": "LayoutModel",
            "state": {}
          },
          "ebefeec8ff47406fbc2384281d6f77f1": {
            "model_module": "@jupyter-widgets/controls",
            "model_module_version": "2.0.0",
            "model_name": "FloatProgressModel",
            "state": {
              "bar_style": "success",
              "layout": "IPY_MODEL_a2269c24609b4a14925be9f4805d44f4",
              "max": 10,
              "style": "IPY_MODEL_1f7e98b6d2be40eea9262be9cfe4cb73",
              "value": 10
            }
          },
          "f2f480406dcb455e8c78b9add61d4b3e": {
            "model_module": "@jupyter-widgets/base",
            "model_module_version": "2.0.0",
            "model_name": "LayoutModel",
            "state": {}
          },
          "f3e69d0f80a5488aac87b1270abbf07b": {
            "model_module": "@jupyter-widgets/base",
            "model_module_version": "2.0.0",
            "model_name": "LayoutModel",
            "state": {}
          },
          "f7af42e8906c444e98c8f941558decf7": {
            "model_module": "@jupyter-widgets/controls",
            "model_module_version": "2.0.0",
            "model_name": "HBoxModel",
            "state": {
              "children": [
                "IPY_MODEL_2288381827cb4420b122bb9806ad6708",
                "IPY_MODEL_1cc7ce6f2e594f9d9d26e5accca6e820",
                "IPY_MODEL_f8cae99ab5354f7393d0ace471729747"
              ],
              "layout": "IPY_MODEL_d39c649d33ea40d69d27e5aa926f9369"
            }
          },
          "f8cae99ab5354f7393d0ace471729747": {
            "model_module": "@jupyter-widgets/controls",
            "model_module_version": "2.0.0",
            "model_name": "HTMLModel",
            "state": {
              "layout": "IPY_MODEL_6d9c699b4aac4084bf9e55cc170492a4",
              "style": "IPY_MODEL_30d3ec7fcb0743d0b1823064e747af01",
              "value": " 10/10 [00:00&lt;00:00, 305.23it/s]"
            }
          },
          "fff3e7933b02490aba3cd5ea311adf2b": {
            "model_module": "@jupyter-widgets/controls",
            "model_module_version": "2.0.0",
            "model_name": "HTMLStyleModel",
            "state": {
              "description_width": "",
              "font_size": null,
              "text_color": null
            }
          }
        },
        "version_major": 2,
        "version_minor": 0
      }
    }
  },
  "nbformat": 4,
  "nbformat_minor": 5
}
